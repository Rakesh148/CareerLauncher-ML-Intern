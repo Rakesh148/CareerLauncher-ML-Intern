{
 "cells": [
  {
   "cell_type": "markdown",
   "metadata": {},
   "source": [
    "# Module - 1:  Introduction to the problem"
   ]
  },
  {
   "cell_type": "markdown",
   "metadata": {},
   "source": [
    "###### Loading required libraries"
   ]
  },
  {
   "cell_type": "code",
   "execution_count": 1,
   "metadata": {},
   "outputs": [],
   "source": [
    "import pandas as pd    # data loading tool\n",
    "import matplotlib.pyplot as plt   #ploting tool"
   ]
  },
  {
   "cell_type": "markdown",
   "metadata": {},
   "source": [
    "## 1.1  Loading the dataset"
   ]
  },
  {
   "cell_type": "code",
   "execution_count": 2,
   "metadata": {},
   "outputs": [
    {
     "data": {
      "text/html": [
       "<div>\n",
       "<style scoped>\n",
       "    .dataframe tbody tr th:only-of-type {\n",
       "        vertical-align: middle;\n",
       "    }\n",
       "\n",
       "    .dataframe tbody tr th {\n",
       "        vertical-align: top;\n",
       "    }\n",
       "\n",
       "    .dataframe thead th {\n",
       "        text-align: right;\n",
       "    }\n",
       "</style>\n",
       "<table border=\"1\" class=\"dataframe\">\n",
       "  <thead>\n",
       "    <tr style=\"text-align: right;\">\n",
       "      <th></th>\n",
       "      <th>Symbol</th>\n",
       "      <th>Series</th>\n",
       "      <th>Date</th>\n",
       "      <th>Prev Close</th>\n",
       "      <th>Open Price</th>\n",
       "      <th>High Price</th>\n",
       "      <th>Low Price</th>\n",
       "      <th>Last Price</th>\n",
       "      <th>Close Price</th>\n",
       "      <th>Average Price</th>\n",
       "      <th>Total Traded Quantity</th>\n",
       "      <th>Turnover</th>\n",
       "      <th>No. of Trades</th>\n",
       "      <th>Deliverable Qty</th>\n",
       "      <th>% Dly Qt to Traded Qty</th>\n",
       "    </tr>\n",
       "  </thead>\n",
       "  <tbody>\n",
       "    <tr>\n",
       "      <th>0</th>\n",
       "      <td>TATAPOWER</td>\n",
       "      <td>EQ</td>\n",
       "      <td>15-May-2017</td>\n",
       "      <td>82.30</td>\n",
       "      <td>82.55</td>\n",
       "      <td>83.80</td>\n",
       "      <td>82.15</td>\n",
       "      <td>83.55</td>\n",
       "      <td>83.55</td>\n",
       "      <td>82.85</td>\n",
       "      <td>2007841</td>\n",
       "      <td>1.663515e+08</td>\n",
       "      <td>13315</td>\n",
       "      <td>796744</td>\n",
       "      <td>39.68</td>\n",
       "    </tr>\n",
       "    <tr>\n",
       "      <th>1</th>\n",
       "      <td>TATAPOWER</td>\n",
       "      <td>EQ</td>\n",
       "      <td>16-May-2017</td>\n",
       "      <td>83.55</td>\n",
       "      <td>83.90</td>\n",
       "      <td>85.95</td>\n",
       "      <td>83.40</td>\n",
       "      <td>83.70</td>\n",
       "      <td>83.85</td>\n",
       "      <td>84.20</td>\n",
       "      <td>5141578</td>\n",
       "      <td>4.329310e+08</td>\n",
       "      <td>23193</td>\n",
       "      <td>2125318</td>\n",
       "      <td>41.34</td>\n",
       "    </tr>\n",
       "    <tr>\n",
       "      <th>2</th>\n",
       "      <td>TATAPOWER</td>\n",
       "      <td>EQ</td>\n",
       "      <td>17-May-2017</td>\n",
       "      <td>83.85</td>\n",
       "      <td>84.00</td>\n",
       "      <td>86.00</td>\n",
       "      <td>83.60</td>\n",
       "      <td>85.15</td>\n",
       "      <td>85.35</td>\n",
       "      <td>84.92</td>\n",
       "      <td>5499293</td>\n",
       "      <td>4.669814e+08</td>\n",
       "      <td>32097</td>\n",
       "      <td>2264851</td>\n",
       "      <td>41.18</td>\n",
       "    </tr>\n",
       "    <tr>\n",
       "      <th>3</th>\n",
       "      <td>TATAPOWER</td>\n",
       "      <td>EQ</td>\n",
       "      <td>18-May-2017</td>\n",
       "      <td>85.35</td>\n",
       "      <td>84.75</td>\n",
       "      <td>85.60</td>\n",
       "      <td>83.50</td>\n",
       "      <td>83.80</td>\n",
       "      <td>83.75</td>\n",
       "      <td>84.49</td>\n",
       "      <td>2296399</td>\n",
       "      <td>1.940177e+08</td>\n",
       "      <td>6983</td>\n",
       "      <td>1217618</td>\n",
       "      <td>53.02</td>\n",
       "    </tr>\n",
       "    <tr>\n",
       "      <th>4</th>\n",
       "      <td>TATAPOWER</td>\n",
       "      <td>EQ</td>\n",
       "      <td>19-May-2017</td>\n",
       "      <td>83.75</td>\n",
       "      <td>84.40</td>\n",
       "      <td>85.45</td>\n",
       "      <td>83.05</td>\n",
       "      <td>83.90</td>\n",
       "      <td>84.15</td>\n",
       "      <td>84.03</td>\n",
       "      <td>6222693</td>\n",
       "      <td>5.229199e+08</td>\n",
       "      <td>19269</td>\n",
       "      <td>1918659</td>\n",
       "      <td>30.83</td>\n",
       "    </tr>\n",
       "  </tbody>\n",
       "</table>\n",
       "</div>"
      ],
      "text/plain": [
       "      Symbol Series         Date  Prev Close  Open Price  High Price  \\\n",
       "0  TATAPOWER     EQ  15-May-2017       82.30       82.55       83.80   \n",
       "1  TATAPOWER     EQ  16-May-2017       83.55       83.90       85.95   \n",
       "2  TATAPOWER     EQ  17-May-2017       83.85       84.00       86.00   \n",
       "3  TATAPOWER     EQ  18-May-2017       85.35       84.75       85.60   \n",
       "4  TATAPOWER     EQ  19-May-2017       83.75       84.40       85.45   \n",
       "\n",
       "   Low Price  Last Price  Close Price  Average Price  Total Traded Quantity  \\\n",
       "0      82.15       83.55        83.55          82.85                2007841   \n",
       "1      83.40       83.70        83.85          84.20                5141578   \n",
       "2      83.60       85.15        85.35          84.92                5499293   \n",
       "3      83.50       83.80        83.75          84.49                2296399   \n",
       "4      83.05       83.90        84.15          84.03                6222693   \n",
       "\n",
       "       Turnover  No. of Trades  Deliverable Qty  % Dly Qt to Traded Qty  \n",
       "0  1.663515e+08          13315           796744                   39.68  \n",
       "1  4.329310e+08          23193          2125318                   41.34  \n",
       "2  4.669814e+08          32097          2264851                   41.18  \n",
       "3  1.940177e+08           6983          1217618                   53.02  \n",
       "4  5.229199e+08          19269          1918659                   30.83  "
      ]
     },
     "execution_count": 2,
     "metadata": {},
     "output_type": "execute_result"
    }
   ],
   "source": [
    "data = pd.read_csv('TATAPOWER.csv')\n",
    "data.head()    # display first 5 rows"
   ]
  },
  {
   "cell_type": "code",
   "execution_count": 3,
   "metadata": {},
   "outputs": [
    {
     "data": {
      "text/html": [
       "<div>\n",
       "<style scoped>\n",
       "    .dataframe tbody tr th:only-of-type {\n",
       "        vertical-align: middle;\n",
       "    }\n",
       "\n",
       "    .dataframe tbody tr th {\n",
       "        vertical-align: top;\n",
       "    }\n",
       "\n",
       "    .dataframe thead th {\n",
       "        text-align: right;\n",
       "    }\n",
       "</style>\n",
       "<table border=\"1\" class=\"dataframe\">\n",
       "  <thead>\n",
       "    <tr style=\"text-align: right;\">\n",
       "      <th></th>\n",
       "      <th>Symbol</th>\n",
       "      <th>Series</th>\n",
       "      <th>Date</th>\n",
       "      <th>Prev Close</th>\n",
       "      <th>Open Price</th>\n",
       "      <th>High Price</th>\n",
       "      <th>Low Price</th>\n",
       "      <th>Last Price</th>\n",
       "      <th>Close Price</th>\n",
       "      <th>Average Price</th>\n",
       "      <th>Total Traded Quantity</th>\n",
       "      <th>Turnover</th>\n",
       "      <th>No. of Trades</th>\n",
       "      <th>Deliverable Qty</th>\n",
       "      <th>% Dly Qt to Traded Qty</th>\n",
       "    </tr>\n",
       "  </thead>\n",
       "  <tbody>\n",
       "    <tr>\n",
       "      <th>490</th>\n",
       "      <td>TATAPOWER</td>\n",
       "      <td>EQ</td>\n",
       "      <td>07-May-2019</td>\n",
       "      <td>65.85</td>\n",
       "      <td>66.5</td>\n",
       "      <td>66.50</td>\n",
       "      <td>64.10</td>\n",
       "      <td>64.45</td>\n",
       "      <td>64.35</td>\n",
       "      <td>65.01</td>\n",
       "      <td>6153618</td>\n",
       "      <td>4.000315e+08</td>\n",
       "      <td>23858</td>\n",
       "      <td>2346311</td>\n",
       "      <td>38.13</td>\n",
       "    </tr>\n",
       "    <tr>\n",
       "      <th>491</th>\n",
       "      <td>TATAPOWER</td>\n",
       "      <td>EQ</td>\n",
       "      <td>08-May-2019</td>\n",
       "      <td>64.35</td>\n",
       "      <td>64.0</td>\n",
       "      <td>64.80</td>\n",
       "      <td>63.20</td>\n",
       "      <td>64.65</td>\n",
       "      <td>64.50</td>\n",
       "      <td>64.29</td>\n",
       "      <td>6615929</td>\n",
       "      <td>4.253711e+08</td>\n",
       "      <td>23860</td>\n",
       "      <td>3208086</td>\n",
       "      <td>48.49</td>\n",
       "    </tr>\n",
       "    <tr>\n",
       "      <th>492</th>\n",
       "      <td>TATAPOWER</td>\n",
       "      <td>EQ</td>\n",
       "      <td>09-May-2019</td>\n",
       "      <td>64.50</td>\n",
       "      <td>64.1</td>\n",
       "      <td>64.95</td>\n",
       "      <td>63.90</td>\n",
       "      <td>64.45</td>\n",
       "      <td>64.40</td>\n",
       "      <td>64.43</td>\n",
       "      <td>5987301</td>\n",
       "      <td>3.857531e+08</td>\n",
       "      <td>19977</td>\n",
       "      <td>3447645</td>\n",
       "      <td>57.58</td>\n",
       "    </tr>\n",
       "    <tr>\n",
       "      <th>493</th>\n",
       "      <td>TATAPOWER</td>\n",
       "      <td>EQ</td>\n",
       "      <td>10-May-2019</td>\n",
       "      <td>64.40</td>\n",
       "      <td>64.4</td>\n",
       "      <td>65.30</td>\n",
       "      <td>63.60</td>\n",
       "      <td>63.80</td>\n",
       "      <td>63.80</td>\n",
       "      <td>64.47</td>\n",
       "      <td>5801249</td>\n",
       "      <td>3.739943e+08</td>\n",
       "      <td>29118</td>\n",
       "      <td>2949787</td>\n",
       "      <td>50.85</td>\n",
       "    </tr>\n",
       "    <tr>\n",
       "      <th>494</th>\n",
       "      <td>TATAPOWER</td>\n",
       "      <td>EQ</td>\n",
       "      <td>13-May-2019</td>\n",
       "      <td>63.80</td>\n",
       "      <td>63.8</td>\n",
       "      <td>64.30</td>\n",
       "      <td>61.75</td>\n",
       "      <td>62.50</td>\n",
       "      <td>62.60</td>\n",
       "      <td>63.20</td>\n",
       "      <td>5045201</td>\n",
       "      <td>3.188605e+08</td>\n",
       "      <td>32892</td>\n",
       "      <td>2607155</td>\n",
       "      <td>51.68</td>\n",
       "    </tr>\n",
       "  </tbody>\n",
       "</table>\n",
       "</div>"
      ],
      "text/plain": [
       "        Symbol Series         Date  Prev Close  Open Price  High Price  \\\n",
       "490  TATAPOWER     EQ  07-May-2019       65.85        66.5       66.50   \n",
       "491  TATAPOWER     EQ  08-May-2019       64.35        64.0       64.80   \n",
       "492  TATAPOWER     EQ  09-May-2019       64.50        64.1       64.95   \n",
       "493  TATAPOWER     EQ  10-May-2019       64.40        64.4       65.30   \n",
       "494  TATAPOWER     EQ  13-May-2019       63.80        63.8       64.30   \n",
       "\n",
       "     Low Price  Last Price  Close Price  Average Price  Total Traded Quantity  \\\n",
       "490      64.10       64.45        64.35          65.01                6153618   \n",
       "491      63.20       64.65        64.50          64.29                6615929   \n",
       "492      63.90       64.45        64.40          64.43                5987301   \n",
       "493      63.60       63.80        63.80          64.47                5801249   \n",
       "494      61.75       62.50        62.60          63.20                5045201   \n",
       "\n",
       "         Turnover  No. of Trades  Deliverable Qty  % Dly Qt to Traded Qty  \n",
       "490  4.000315e+08          23858          2346311                   38.13  \n",
       "491  4.253711e+08          23860          3208086                   48.49  \n",
       "492  3.857531e+08          19977          3447645                   57.58  \n",
       "493  3.739943e+08          29118          2949787                   50.85  \n",
       "494  3.188605e+08          32892          2607155                   51.68  "
      ]
     },
     "execution_count": 3,
     "metadata": {},
     "output_type": "execute_result"
    }
   ],
   "source": [
    "data.tail() #display last 5 rows"
   ]
  },
  {
   "cell_type": "markdown",
   "metadata": {},
   "source": [
    "\n",
    "\n",
    "\n",
    "###### Removing all the rows where 'Series' column is NOT 'EQ'"
   ]
  },
  {
   "cell_type": "code",
   "execution_count": 4,
   "metadata": {},
   "outputs": [
    {
     "data": {
      "text/plain": [
       "EQ    494\n",
       "BL      1\n",
       "Name: Series, dtype: int64"
      ]
     },
     "execution_count": 4,
     "metadata": {},
     "output_type": "execute_result"
    }
   ],
   "source": [
    "data['Series'].value_counts()"
   ]
  },
  {
   "cell_type": "code",
   "execution_count": 5,
   "metadata": {},
   "outputs": [],
   "source": [
    "data = data[data['Series'] == 'EQ']    #checking for category"
   ]
  },
  {
   "cell_type": "code",
   "execution_count": 6,
   "metadata": {},
   "outputs": [
    {
     "data": {
      "text/plain": [
       "EQ    494\n",
       "Name: Series, dtype: int64"
      ]
     },
     "execution_count": 6,
     "metadata": {},
     "output_type": "execute_result"
    }
   ],
   "source": [
    "data = data.reset_index(drop=True)\n",
    "data.Series.value_counts()   "
   ]
  },
  {
   "cell_type": "markdown",
   "metadata": {},
   "source": [
    "###### Checking data for any missing values"
   ]
  },
  {
   "cell_type": "code",
   "execution_count": 7,
   "metadata": {},
   "outputs": [
    {
     "name": "stdout",
     "output_type": "stream",
     "text": [
      "<class 'pandas.core.frame.DataFrame'>\n",
      "RangeIndex: 494 entries, 0 to 493\n",
      "Data columns (total 15 columns):\n",
      " #   Column                  Non-Null Count  Dtype  \n",
      "---  ------                  --------------  -----  \n",
      " 0   Symbol                  494 non-null    object \n",
      " 1   Series                  494 non-null    object \n",
      " 2   Date                    494 non-null    object \n",
      " 3   Prev Close              494 non-null    float64\n",
      " 4   Open Price              494 non-null    float64\n",
      " 5   High Price              494 non-null    float64\n",
      " 6   Low Price               494 non-null    float64\n",
      " 7   Last Price              494 non-null    float64\n",
      " 8   Close Price             494 non-null    float64\n",
      " 9   Average Price           494 non-null    float64\n",
      " 10  Total Traded Quantity   494 non-null    int64  \n",
      " 11  Turnover                494 non-null    float64\n",
      " 12  No. of Trades           494 non-null    int64  \n",
      " 13  Deliverable Qty         494 non-null    int64  \n",
      " 14  % Dly Qt to Traded Qty  494 non-null    float64\n",
      "dtypes: float64(9), int64(3), object(3)\n",
      "memory usage: 58.0+ KB\n"
     ]
    }
   ],
   "source": [
    "data.info()"
   ]
  },
  {
   "cell_type": "markdown",
   "metadata": {},
   "source": [
    "\n",
    "\n",
    "\n",
    "\n",
    "\n",
    "###### Summerizing the given dataset, MIN, MAX values"
   ]
  },
  {
   "cell_type": "code",
   "execution_count": 8,
   "metadata": {},
   "outputs": [
    {
     "data": {
      "text/html": [
       "<div>\n",
       "<style scoped>\n",
       "    .dataframe tbody tr th:only-of-type {\n",
       "        vertical-align: middle;\n",
       "    }\n",
       "\n",
       "    .dataframe tbody tr th {\n",
       "        vertical-align: top;\n",
       "    }\n",
       "\n",
       "    .dataframe thead th {\n",
       "        text-align: right;\n",
       "    }\n",
       "</style>\n",
       "<table border=\"1\" class=\"dataframe\">\n",
       "  <thead>\n",
       "    <tr style=\"text-align: right;\">\n",
       "      <th></th>\n",
       "      <th>Prev Close</th>\n",
       "      <th>Open Price</th>\n",
       "      <th>High Price</th>\n",
       "      <th>Low Price</th>\n",
       "      <th>Last Price</th>\n",
       "      <th>Close Price</th>\n",
       "      <th>Average Price</th>\n",
       "      <th>Total Traded Quantity</th>\n",
       "      <th>Turnover</th>\n",
       "      <th>No. of Trades</th>\n",
       "      <th>Deliverable Qty</th>\n",
       "      <th>% Dly Qt to Traded Qty</th>\n",
       "    </tr>\n",
       "  </thead>\n",
       "  <tbody>\n",
       "    <tr>\n",
       "      <th>count</th>\n",
       "      <td>494.000000</td>\n",
       "      <td>494.000000</td>\n",
       "      <td>494.000000</td>\n",
       "      <td>494.000000</td>\n",
       "      <td>494.000000</td>\n",
       "      <td>494.000000</td>\n",
       "      <td>494.000000</td>\n",
       "      <td>4.940000e+02</td>\n",
       "      <td>4.940000e+02</td>\n",
       "      <td>494.000000</td>\n",
       "      <td>4.940000e+02</td>\n",
       "      <td>494.000000</td>\n",
       "    </tr>\n",
       "    <tr>\n",
       "      <th>mean</th>\n",
       "      <td>78.841700</td>\n",
       "      <td>78.984413</td>\n",
       "      <td>80.068219</td>\n",
       "      <td>77.765486</td>\n",
       "      <td>78.774595</td>\n",
       "      <td>78.801822</td>\n",
       "      <td>78.896964</td>\n",
       "      <td>5.897024e+06</td>\n",
       "      <td>4.724025e+08</td>\n",
       "      <td>20910.155870</td>\n",
       "      <td>2.370816e+06</td>\n",
       "      <td>41.475142</td>\n",
       "    </tr>\n",
       "    <tr>\n",
       "      <th>std</th>\n",
       "      <td>7.634453</td>\n",
       "      <td>7.681945</td>\n",
       "      <td>7.683621</td>\n",
       "      <td>7.658060</td>\n",
       "      <td>7.643224</td>\n",
       "      <td>7.667731</td>\n",
       "      <td>7.640142</td>\n",
       "      <td>4.767900e+06</td>\n",
       "      <td>4.069813e+08</td>\n",
       "      <td>13684.600702</td>\n",
       "      <td>1.936902e+06</td>\n",
       "      <td>12.983357</td>\n",
       "    </tr>\n",
       "    <tr>\n",
       "      <th>min</th>\n",
       "      <td>60.950000</td>\n",
       "      <td>61.300000</td>\n",
       "      <td>62.400000</td>\n",
       "      <td>59.800000</td>\n",
       "      <td>61.200000</td>\n",
       "      <td>60.950000</td>\n",
       "      <td>61.140000</td>\n",
       "      <td>4.376310e+05</td>\n",
       "      <td>3.327431e+07</td>\n",
       "      <td>2458.000000</td>\n",
       "      <td>1.870470e+05</td>\n",
       "      <td>10.060000</td>\n",
       "    </tr>\n",
       "    <tr>\n",
       "      <th>25%</th>\n",
       "      <td>73.250000</td>\n",
       "      <td>73.412500</td>\n",
       "      <td>74.562500</td>\n",
       "      <td>71.962500</td>\n",
       "      <td>73.150000</td>\n",
       "      <td>73.212500</td>\n",
       "      <td>73.210000</td>\n",
       "      <td>3.272306e+06</td>\n",
       "      <td>2.494220e+08</td>\n",
       "      <td>12688.000000</td>\n",
       "      <td>1.242190e+06</td>\n",
       "      <td>31.772500</td>\n",
       "    </tr>\n",
       "    <tr>\n",
       "      <th>50%</th>\n",
       "      <td>78.825000</td>\n",
       "      <td>78.825000</td>\n",
       "      <td>80.175000</td>\n",
       "      <td>77.700000</td>\n",
       "      <td>78.725000</td>\n",
       "      <td>78.800000</td>\n",
       "      <td>78.925000</td>\n",
       "      <td>4.756478e+06</td>\n",
       "      <td>3.616031e+08</td>\n",
       "      <td>17548.000000</td>\n",
       "      <td>1.873638e+06</td>\n",
       "      <td>40.190000</td>\n",
       "    </tr>\n",
       "    <tr>\n",
       "      <th>75%</th>\n",
       "      <td>83.087500</td>\n",
       "      <td>83.350000</td>\n",
       "      <td>84.287500</td>\n",
       "      <td>82.437500</td>\n",
       "      <td>83.037500</td>\n",
       "      <td>83.087500</td>\n",
       "      <td>83.197500</td>\n",
       "      <td>7.141946e+06</td>\n",
       "      <td>5.760226e+08</td>\n",
       "      <td>24345.750000</td>\n",
       "      <td>2.844164e+06</td>\n",
       "      <td>49.690000</td>\n",
       "    </tr>\n",
       "    <tr>\n",
       "      <th>max</th>\n",
       "      <td>100.800000</td>\n",
       "      <td>100.950000</td>\n",
       "      <td>101.800000</td>\n",
       "      <td>99.600000</td>\n",
       "      <td>100.450000</td>\n",
       "      <td>100.800000</td>\n",
       "      <td>100.600000</td>\n",
       "      <td>4.467388e+07</td>\n",
       "      <td>3.500284e+09</td>\n",
       "      <td>116037.000000</td>\n",
       "      <td>2.464164e+07</td>\n",
       "      <td>88.030000</td>\n",
       "    </tr>\n",
       "  </tbody>\n",
       "</table>\n",
       "</div>"
      ],
      "text/plain": [
       "       Prev Close  Open Price  High Price   Low Price  Last Price  \\\n",
       "count  494.000000  494.000000  494.000000  494.000000  494.000000   \n",
       "mean    78.841700   78.984413   80.068219   77.765486   78.774595   \n",
       "std      7.634453    7.681945    7.683621    7.658060    7.643224   \n",
       "min     60.950000   61.300000   62.400000   59.800000   61.200000   \n",
       "25%     73.250000   73.412500   74.562500   71.962500   73.150000   \n",
       "50%     78.825000   78.825000   80.175000   77.700000   78.725000   \n",
       "75%     83.087500   83.350000   84.287500   82.437500   83.037500   \n",
       "max    100.800000  100.950000  101.800000   99.600000  100.450000   \n",
       "\n",
       "       Close Price  Average Price  Total Traded Quantity      Turnover  \\\n",
       "count   494.000000     494.000000           4.940000e+02  4.940000e+02   \n",
       "mean     78.801822      78.896964           5.897024e+06  4.724025e+08   \n",
       "std       7.667731       7.640142           4.767900e+06  4.069813e+08   \n",
       "min      60.950000      61.140000           4.376310e+05  3.327431e+07   \n",
       "25%      73.212500      73.210000           3.272306e+06  2.494220e+08   \n",
       "50%      78.800000      78.925000           4.756478e+06  3.616031e+08   \n",
       "75%      83.087500      83.197500           7.141946e+06  5.760226e+08   \n",
       "max     100.800000     100.600000           4.467388e+07  3.500284e+09   \n",
       "\n",
       "       No. of Trades  Deliverable Qty  % Dly Qt to Traded Qty  \n",
       "count     494.000000     4.940000e+02              494.000000  \n",
       "mean    20910.155870     2.370816e+06               41.475142  \n",
       "std     13684.600702     1.936902e+06               12.983357  \n",
       "min      2458.000000     1.870470e+05               10.060000  \n",
       "25%     12688.000000     1.242190e+06               31.772500  \n",
       "50%     17548.000000     1.873638e+06               40.190000  \n",
       "75%     24345.750000     2.844164e+06               49.690000  \n",
       "max    116037.000000     2.464164e+07               88.030000  "
      ]
     },
     "execution_count": 8,
     "metadata": {},
     "output_type": "execute_result"
    }
   ],
   "source": [
    "data.describe()"
   ]
  },
  {
   "cell_type": "markdown",
   "metadata": {},
   "source": [
    "## 1.2  MIN, MAX and MEAN of Close Price feature for last 90 days"
   ]
  },
  {
   "cell_type": "code",
   "execution_count": 9,
   "metadata": {},
   "outputs": [
    {
     "data": {
      "text/html": [
       "<div>\n",
       "<style scoped>\n",
       "    .dataframe tbody tr th:only-of-type {\n",
       "        vertical-align: middle;\n",
       "    }\n",
       "\n",
       "    .dataframe tbody tr th {\n",
       "        vertical-align: top;\n",
       "    }\n",
       "\n",
       "    .dataframe thead th {\n",
       "        text-align: right;\n",
       "    }\n",
       "</style>\n",
       "<table border=\"1\" class=\"dataframe\">\n",
       "  <thead>\n",
       "    <tr style=\"text-align: right;\">\n",
       "      <th></th>\n",
       "      <th>Close Price</th>\n",
       "    </tr>\n",
       "  </thead>\n",
       "  <tbody>\n",
       "    <tr>\n",
       "      <th>count</th>\n",
       "      <td>90.000000</td>\n",
       "    </tr>\n",
       "    <tr>\n",
       "      <th>mean</th>\n",
       "      <td>70.745000</td>\n",
       "    </tr>\n",
       "    <tr>\n",
       "      <th>std</th>\n",
       "      <td>3.617661</td>\n",
       "    </tr>\n",
       "    <tr>\n",
       "      <th>min</th>\n",
       "      <td>62.600000</td>\n",
       "    </tr>\n",
       "    <tr>\n",
       "      <th>25%</th>\n",
       "      <td>67.725000</td>\n",
       "    </tr>\n",
       "    <tr>\n",
       "      <th>50%</th>\n",
       "      <td>71.300000</td>\n",
       "    </tr>\n",
       "    <tr>\n",
       "      <th>75%</th>\n",
       "      <td>73.800000</td>\n",
       "    </tr>\n",
       "    <tr>\n",
       "      <th>max</th>\n",
       "      <td>76.800000</td>\n",
       "    </tr>\n",
       "  </tbody>\n",
       "</table>\n",
       "</div>"
      ],
      "text/plain": [
       "       Close Price\n",
       "count    90.000000\n",
       "mean     70.745000\n",
       "std       3.617661\n",
       "min      62.600000\n",
       "25%      67.725000\n",
       "50%      71.300000\n",
       "75%      73.800000\n",
       "max      76.800000"
      ]
     },
     "execution_count": 9,
     "metadata": {},
     "output_type": "execute_result"
    }
   ],
   "source": [
    "closing_price_90D = data[['Close Price']][404:494]   # slicing for 90 days\n",
    "closing_price_90D.describe()"
   ]
  },
  {
   "cell_type": "markdown",
   "metadata": {},
   "source": [
    "## 1.3  Changing the 'Date' column from 'object'  to  'datetime64(ns)'"
   ]
  },
  {
   "cell_type": "code",
   "execution_count": 10,
   "metadata": {},
   "outputs": [],
   "source": [
    "data['Date'] = pd.to_datetime(data['Date'])"
   ]
  },
  {
   "cell_type": "code",
   "execution_count": 11,
   "metadata": {},
   "outputs": [
    {
     "name": "stdout",
     "output_type": "stream",
     "text": [
      "<class 'pandas.core.frame.DataFrame'>\n",
      "RangeIndex: 494 entries, 0 to 493\n",
      "Data columns (total 15 columns):\n",
      " #   Column                  Non-Null Count  Dtype         \n",
      "---  ------                  --------------  -----         \n",
      " 0   Symbol                  494 non-null    object        \n",
      " 1   Series                  494 non-null    object        \n",
      " 2   Date                    494 non-null    datetime64[ns]\n",
      " 3   Prev Close              494 non-null    float64       \n",
      " 4   Open Price              494 non-null    float64       \n",
      " 5   High Price              494 non-null    float64       \n",
      " 6   Low Price               494 non-null    float64       \n",
      " 7   Last Price              494 non-null    float64       \n",
      " 8   Close Price             494 non-null    float64       \n",
      " 9   Average Price           494 non-null    float64       \n",
      " 10  Total Traded Quantity   494 non-null    int64         \n",
      " 11  Turnover                494 non-null    float64       \n",
      " 12  No. of Trades           494 non-null    int64         \n",
      " 13  Deliverable Qty         494 non-null    int64         \n",
      " 14  % Dly Qt to Traded Qty  494 non-null    float64       \n",
      "dtypes: datetime64[ns](1), float64(9), int64(3), object(2)\n",
      "memory usage: 58.0+ KB\n"
     ]
    }
   ],
   "source": [
    "data.info()"
   ]
  },
  {
   "cell_type": "markdown",
   "metadata": {},
   "source": [
    "Date type is changed to dattime64[ns]\n",
    "\n",
    "When we substract max and min Date values, we get 728 days. But the given data has only 494 instances (494 market days), which are excluding 'holidays'."
   ]
  },
  {
   "cell_type": "code",
   "execution_count": 12,
   "metadata": {},
   "outputs": [
    {
     "data": {
      "text/plain": [
       "Timedelta('728 days 00:00:00')"
      ]
     },
     "execution_count": 12,
     "metadata": {},
     "output_type": "execute_result"
    }
   ],
   "source": [
    "max(data['Date']) - min(data['Date'])"
   ]
  },
  {
   "cell_type": "markdown",
   "metadata": {},
   "source": [
    "## 1.4  Volume Weighted Average Price\n",
    "VWAP=∑(Price * Volume)/∑(Volume)"
   ]
  },
  {
   "cell_type": "code",
   "execution_count": 13,
   "metadata": {},
   "outputs": [],
   "source": [
    "data['Year'] = data['Date'].dt.year\n",
    "data['Month'] = data['Date'].dt.month"
   ]
  },
  {
   "cell_type": "code",
   "execution_count": 14,
   "metadata": {},
   "outputs": [],
   "source": [
    "import numpy as np     # tool for scitific calculation in python\n",
    "groups = data.groupby(['Month', 'Year'])\n",
    "for group in groups:   #obtaining VWAP for each group\n",
    "    data['VWAP'] = (np.cumsum(data['Close Price']*data['Total Traded Quantity']) / np.cumsum(data['Total Traded Quantity']))"
   ]
  },
  {
   "cell_type": "markdown",
   "metadata": {},
   "source": [
    "## 1.5 Function definitions"
   ]
  },
  {
   "cell_type": "code",
   "execution_count": 15,
   "metadata": {},
   "outputs": [],
   "source": [
    "#function to calculate avg price over the last N days\n",
    "def avg_price_cal(N):\n",
    "    avg = 0; total = 0; n = 0\n",
    "    while n <= N-1:\n",
    "        total = total + data['Close Price'][493 -n]\n",
    "        n += 1\n",
    "    avg = total/N\n",
    "    return avg"
   ]
  },
  {
   "cell_type": "code",
   "execution_count": 16,
   "metadata": {},
   "outputs": [],
   "source": [
    "#function to caculate profit/loss % over the last N days\n",
    "def profit_loss(N):\n",
    "    avg = 0; total = 0; n = 0\n",
    "    while n <= N-1:\n",
    "        total = total + ((data['Close Price'][493 -n] - data['Close Price'][491 -n])/data['Close Price'][493 -n])*100\n",
    "        n += 1\n",
    "    return total"
   ]
  },
  {
   "cell_type": "code",
   "execution_count": 17,
   "metadata": {},
   "outputs": [
    {
     "name": "stdout",
     "output_type": "stream",
     "text": [
      "======= avg prices=======\n",
      "avg price 1 week: 64.63571428571429\n",
      "avg price 2 week: 66.2642857142857\n",
      "avg price 1 month: 69.39166666666667\n",
      "avg price 2 months: 70.74500000000002\n",
      "avg price 3 months: 72.3736111111111\n",
      "avg price 1 year: 77.91999999999996\n",
      "====== profit/loss =======\n",
      "profit/loss 1 week: -12.436921935307787\n",
      "profit/loss 2 week: -23.59281874965982\n",
      "profit/loss 1 month: -25.73675786245811\n",
      "profit/loss 2 months: -42.37536211192715\n",
      "profit/loss 3 months: -27.41559462514183\n",
      "profit/loss 1 year: -71.21376573988753\n"
     ]
    }
   ],
   "source": [
    "print('======= avg prices=======')\n",
    "print('avg price 1 week:',avg_price_cal(7))\n",
    "print('avg price 2 week:',avg_price_cal(14))\n",
    "print('avg price 1 month:',avg_price_cal(30))\n",
    "print('avg price 2 months:',avg_price_cal(90))\n",
    "print('avg price 3 months:',avg_price_cal(180))\n",
    "print('avg price 1 year:',avg_price_cal(365))\n",
    "print('====== profit/loss =======')\n",
    "print('profit/loss 1 week:',profit_loss(7))\n",
    "print('profit/loss 2 week:',profit_loss(14))\n",
    "print('profit/loss 1 month:',profit_loss(30))\n",
    "print('profit/loss 2 months:',profit_loss(90))\n",
    "print('profit/loss 3 months:',profit_loss(180))\n",
    "print('profit/loss 1 year:',profit_loss(365))"
   ]
  },
  {
   "cell_type": "markdown",
   "metadata": {},
   "source": [
    "## 1.6 Adding 'Day_Perc_Change' column"
   ]
  },
  {
   "cell_type": "code",
   "execution_count": 18,
   "metadata": {},
   "outputs": [],
   "source": [
    "data['Day_Perc_Change'] = data['Close Price'].pct_change(periods=2)*100\n",
    "data['Day_Perc_Change'].fillna(0, inplace=True)  #replacing NaN with 0's"
   ]
  },
  {
   "cell_type": "markdown",
   "metadata": {},
   "source": [
    "The first two rows in 'Day_Perc_Change' column are NaN. this is because there are no previous values to compute the change with periods = 2"
   ]
  },
  {
   "cell_type": "markdown",
   "metadata": {},
   "source": [
    "## 1.7 Adding 'Trend' column"
   ]
  },
  {
   "cell_type": "code",
   "execution_count": 19,
   "metadata": {},
   "outputs": [],
   "source": [
    "\n",
    "def category(num):\n",
    "    if num >= -0.5 and num <= 0.5 : return 'Slight or No change'\n",
    "    elif num >= 0.5 and num <= 1 : return 'Slight positive'\n",
    "    elif num >= -1 and num <= -0.5 : return 'Slight negative'\n",
    "    elif num >= 1 and num <= 3 : return 'Positive'\n",
    "    elif num >= -3  and num <= -1 : return 'Negative'\n",
    "    elif num >= 3 and num <= 7 : return 'Among top gainers'\n",
    "    elif num >= -7  and num <= -3 : return 'Among top losers'\n",
    "    elif num > 7 : return 'Bull run'\n",
    "    elif num < -7 : return 'Bear drop'\n",
    "\n",
    "    \n",
    "data['Trend'] = data.Day_Perc_Change.apply(category)"
   ]
  },
  {
   "cell_type": "code",
   "execution_count": 20,
   "metadata": {},
   "outputs": [
    {
     "data": {
      "text/plain": [
       "Negative               123\n",
       "Slight or No change    112\n",
       "Positive                71\n",
       "Among top losers        53\n",
       "Slight negative         48\n",
       "Among top gainers       42\n",
       "Slight positive         33\n",
       "Bull run                10\n",
       "Bear drop                2\n",
       "Name: Trend, dtype: int64"
      ]
     },
     "execution_count": 20,
     "metadata": {},
     "output_type": "execute_result"
    }
   ],
   "source": [
    "data['Trend'].value_counts()"
   ]
  },
  {
   "cell_type": "markdown",
   "metadata": {},
   "source": [
    "## 1.8 Mean, Median of 'Total Traded Quantity' by 'Trend'"
   ]
  },
  {
   "cell_type": "code",
   "execution_count": 21,
   "metadata": {},
   "outputs": [
    {
     "name": "stdout",
     "output_type": "stream",
     "text": [
      "                 Trend  Total Traded Quantity\n",
      "3             Bull run           1.785052e+07\n",
      "0    Among top gainers           1.023532e+07\n",
      "1     Among top losers           6.114574e+06\n",
      "5             Positive           5.651874e+06\n",
      "6      Slight negative           5.606230e+06\n",
      "4             Negative           5.162910e+06\n",
      "2            Bear drop           4.984548e+06\n",
      "7  Slight or No change           4.620961e+06\n",
      "8      Slight positive           4.476728e+06\n"
     ]
    }
   ],
   "source": [
    "print(data[['Trend', 'Total Traded Quantity']].groupby(['Trend'], as_index=False).mean().sort_values(by='Total Traded Quantity', ascending=False))"
   ]
  },
  {
   "cell_type": "markdown",
   "metadata": {},
   "source": [
    "## 1.9 Saving the data file"
   ]
  },
  {
   "cell_type": "code",
   "execution_count": 22,
   "metadata": {},
   "outputs": [],
   "source": [
    "data.to_csv(r'C:\\Users\\user\\Desktop\\Intership\\Aspiration\\week2.csv')"
   ]
  },
  {
   "cell_type": "code",
   "execution_count": null,
   "metadata": {},
   "outputs": [],
   "source": []
  }
 ],
 "metadata": {
  "kernelspec": {
   "display_name": "Python 3",
   "language": "python",
   "name": "python3"
  },
  "language_info": {
   "codemirror_mode": {
    "name": "ipython",
    "version": 3
   },
   "file_extension": ".py",
   "mimetype": "text/x-python",
   "name": "python",
   "nbconvert_exporter": "python",
   "pygments_lexer": "ipython3",
   "version": "3.7.6"
  }
 },
 "nbformat": 4,
 "nbformat_minor": 4
}
