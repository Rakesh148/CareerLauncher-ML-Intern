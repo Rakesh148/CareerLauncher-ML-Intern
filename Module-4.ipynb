{
 "cells": [
  {
   "cell_type": "markdown",
   "metadata": {},
   "source": [
    "# Module-4: Trade Call Prediction using Classification"
   ]
  },
  {
   "cell_type": "markdown",
   "metadata": {},
   "source": [
    "###### Loading required libraries"
   ]
  },
  {
   "cell_type": "code",
   "execution_count": 1,
   "metadata": {},
   "outputs": [],
   "source": [
    "import pandas as pd\n",
    "import numpy as np\n",
    "import matplotlib.pyplot as plt\n",
    "import seaborn as sns"
   ]
  },
  {
   "cell_type": "markdown",
   "metadata": {},
   "source": [
    "## 4.1 Loading dataset "
   ]
  },
  {
   "cell_type": "code",
   "execution_count": 2,
   "metadata": {},
   "outputs": [],
   "source": [
    "data = pd.read_csv('Nifty50.csv')\n",
    "data.Date = pd.to_datetime(data['Date'])\n",
    "data = data.set_index(data['Date'])\n",
    "\n",
    "data['Bollinger'] = data['Close'].rolling(14).mean()\n",
    "std = data['Close'].rolling(14).std()\n",
    "data['upper_band'] = data['Bollinger']+2*std\n",
    "data['lower_band'] = data['Bollinger']-2*std\n",
    "data = data.dropna()"
   ]
  },
  {
   "cell_type": "code",
   "execution_count": 3,
   "metadata": {},
   "outputs": [
    {
     "data": {
      "text/html": [
       "<div>\n",
       "<style scoped>\n",
       "    .dataframe tbody tr th:only-of-type {\n",
       "        vertical-align: middle;\n",
       "    }\n",
       "\n",
       "    .dataframe tbody tr th {\n",
       "        vertical-align: top;\n",
       "    }\n",
       "\n",
       "    .dataframe thead th {\n",
       "        text-align: right;\n",
       "    }\n",
       "</style>\n",
       "<table border=\"1\" class=\"dataframe\">\n",
       "  <thead>\n",
       "    <tr style=\"text-align: right;\">\n",
       "      <th></th>\n",
       "      <th>Date</th>\n",
       "      <th>Open</th>\n",
       "      <th>High</th>\n",
       "      <th>Low</th>\n",
       "      <th>Close</th>\n",
       "      <th>Shares Traded</th>\n",
       "      <th>Turnover (Rs. Cr)</th>\n",
       "      <th>Bollinger</th>\n",
       "      <th>upper_band</th>\n",
       "      <th>lower_band</th>\n",
       "    </tr>\n",
       "    <tr>\n",
       "      <th>Date</th>\n",
       "      <th></th>\n",
       "      <th></th>\n",
       "      <th></th>\n",
       "      <th></th>\n",
       "      <th></th>\n",
       "      <th></th>\n",
       "      <th></th>\n",
       "      <th></th>\n",
       "      <th></th>\n",
       "      <th></th>\n",
       "    </tr>\n",
       "  </thead>\n",
       "  <tbody>\n",
       "    <tr>\n",
       "      <th>2017-06-01</th>\n",
       "      <td>2017-06-01</td>\n",
       "      <td>9603.55</td>\n",
       "      <td>9634.65</td>\n",
       "      <td>9589.90</td>\n",
       "      <td>9616.10</td>\n",
       "      <td>181533283</td>\n",
       "      <td>9482.61</td>\n",
       "      <td>9506.953571</td>\n",
       "      <td>9693.707883</td>\n",
       "      <td>9320.199260</td>\n",
       "    </tr>\n",
       "    <tr>\n",
       "      <th>2017-06-02</th>\n",
       "      <td>2017-06-02</td>\n",
       "      <td>9657.15</td>\n",
       "      <td>9673.50</td>\n",
       "      <td>9637.45</td>\n",
       "      <td>9653.50</td>\n",
       "      <td>167195027</td>\n",
       "      <td>8564.30</td>\n",
       "      <td>9521.817857</td>\n",
       "      <td>9720.230456</td>\n",
       "      <td>9323.405258</td>\n",
       "    </tr>\n",
       "    <tr>\n",
       "      <th>2017-06-05</th>\n",
       "      <td>2017-06-05</td>\n",
       "      <td>9656.30</td>\n",
       "      <td>9687.20</td>\n",
       "      <td>9640.70</td>\n",
       "      <td>9675.10</td>\n",
       "      <td>131685021</td>\n",
       "      <td>7192.24</td>\n",
       "      <td>9533.450000</td>\n",
       "      <td>9747.893211</td>\n",
       "      <td>9319.006789</td>\n",
       "    </tr>\n",
       "    <tr>\n",
       "      <th>2017-06-06</th>\n",
       "      <td>2017-06-06</td>\n",
       "      <td>9704.25</td>\n",
       "      <td>9709.30</td>\n",
       "      <td>9630.20</td>\n",
       "      <td>9637.15</td>\n",
       "      <td>150379695</td>\n",
       "      <td>8416.55</td>\n",
       "      <td>9541.407143</td>\n",
       "      <td>9762.775002</td>\n",
       "      <td>9320.039284</td>\n",
       "    </tr>\n",
       "    <tr>\n",
       "      <th>2017-06-07</th>\n",
       "      <td>2017-06-07</td>\n",
       "      <td>9663.95</td>\n",
       "      <td>9678.55</td>\n",
       "      <td>9630.55</td>\n",
       "      <td>9663.90</td>\n",
       "      <td>165669924</td>\n",
       "      <td>8989.36</td>\n",
       "      <td>9558.153571</td>\n",
       "      <td>9778.507146</td>\n",
       "      <td>9337.799997</td>\n",
       "    </tr>\n",
       "    <tr>\n",
       "      <th>...</th>\n",
       "      <td>...</td>\n",
       "      <td>...</td>\n",
       "      <td>...</td>\n",
       "      <td>...</td>\n",
       "      <td>...</td>\n",
       "      <td>...</td>\n",
       "      <td>...</td>\n",
       "      <td>...</td>\n",
       "      <td>...</td>\n",
       "      <td>...</td>\n",
       "    </tr>\n",
       "    <tr>\n",
       "      <th>2019-05-07</th>\n",
       "      <td>2019-05-07</td>\n",
       "      <td>11651.50</td>\n",
       "      <td>11657.05</td>\n",
       "      <td>11484.45</td>\n",
       "      <td>11497.90</td>\n",
       "      <td>337495624</td>\n",
       "      <td>16632.84</td>\n",
       "      <td>11674.860714</td>\n",
       "      <td>11843.740850</td>\n",
       "      <td>11505.980578</td>\n",
       "    </tr>\n",
       "    <tr>\n",
       "      <th>2019-05-08</th>\n",
       "      <td>2019-05-08</td>\n",
       "      <td>11478.70</td>\n",
       "      <td>11479.10</td>\n",
       "      <td>11346.95</td>\n",
       "      <td>11359.45</td>\n",
       "      <td>372826025</td>\n",
       "      <td>17440.01</td>\n",
       "      <td>11654.575000</td>\n",
       "      <td>11893.436253</td>\n",
       "      <td>11415.713747</td>\n",
       "    </tr>\n",
       "    <tr>\n",
       "      <th>2019-05-09</th>\n",
       "      <td>2019-05-09</td>\n",
       "      <td>11322.40</td>\n",
       "      <td>11357.60</td>\n",
       "      <td>11255.05</td>\n",
       "      <td>11301.80</td>\n",
       "      <td>373028059</td>\n",
       "      <td>17602.86</td>\n",
       "      <td>11626.821429</td>\n",
       "      <td>11929.534529</td>\n",
       "      <td>11324.108328</td>\n",
       "    </tr>\n",
       "    <tr>\n",
       "      <th>2019-05-10</th>\n",
       "      <td>2019-05-10</td>\n",
       "      <td>11314.15</td>\n",
       "      <td>11345.80</td>\n",
       "      <td>11251.05</td>\n",
       "      <td>11278.90</td>\n",
       "      <td>387323416</td>\n",
       "      <td>18085.19</td>\n",
       "      <td>11590.517857</td>\n",
       "      <td>11930.068351</td>\n",
       "      <td>11250.967363</td>\n",
       "    </tr>\n",
       "    <tr>\n",
       "      <th>2019-05-13</th>\n",
       "      <td>2019-05-13</td>\n",
       "      <td>11258.70</td>\n",
       "      <td>11300.20</td>\n",
       "      <td>11125.60</td>\n",
       "      <td>11148.20</td>\n",
       "      <td>357586433</td>\n",
       "      <td>16722.91</td>\n",
       "      <td>11547.332143</td>\n",
       "      <td>11946.526238</td>\n",
       "      <td>11148.138048</td>\n",
       "    </tr>\n",
       "  </tbody>\n",
       "</table>\n",
       "<p>481 rows × 10 columns</p>\n",
       "</div>"
      ],
      "text/plain": [
       "                 Date      Open      High       Low     Close  Shares Traded  \\\n",
       "Date                                                                           \n",
       "2017-06-01 2017-06-01   9603.55   9634.65   9589.90   9616.10      181533283   \n",
       "2017-06-02 2017-06-02   9657.15   9673.50   9637.45   9653.50      167195027   \n",
       "2017-06-05 2017-06-05   9656.30   9687.20   9640.70   9675.10      131685021   \n",
       "2017-06-06 2017-06-06   9704.25   9709.30   9630.20   9637.15      150379695   \n",
       "2017-06-07 2017-06-07   9663.95   9678.55   9630.55   9663.90      165669924   \n",
       "...               ...       ...       ...       ...       ...            ...   \n",
       "2019-05-07 2019-05-07  11651.50  11657.05  11484.45  11497.90      337495624   \n",
       "2019-05-08 2019-05-08  11478.70  11479.10  11346.95  11359.45      372826025   \n",
       "2019-05-09 2019-05-09  11322.40  11357.60  11255.05  11301.80      373028059   \n",
       "2019-05-10 2019-05-10  11314.15  11345.80  11251.05  11278.90      387323416   \n",
       "2019-05-13 2019-05-13  11258.70  11300.20  11125.60  11148.20      357586433   \n",
       "\n",
       "            Turnover (Rs. Cr)     Bollinger    upper_band    lower_band  \n",
       "Date                                                                     \n",
       "2017-06-01            9482.61   9506.953571   9693.707883   9320.199260  \n",
       "2017-06-02            8564.30   9521.817857   9720.230456   9323.405258  \n",
       "2017-06-05            7192.24   9533.450000   9747.893211   9319.006789  \n",
       "2017-06-06            8416.55   9541.407143   9762.775002   9320.039284  \n",
       "2017-06-07            8989.36   9558.153571   9778.507146   9337.799997  \n",
       "...                       ...           ...           ...           ...  \n",
       "2019-05-07           16632.84  11674.860714  11843.740850  11505.980578  \n",
       "2019-05-08           17440.01  11654.575000  11893.436253  11415.713747  \n",
       "2019-05-09           17602.86  11626.821429  11929.534529  11324.108328  \n",
       "2019-05-10           18085.19  11590.517857  11930.068351  11250.967363  \n",
       "2019-05-13           16722.91  11547.332143  11946.526238  11148.138048  \n",
       "\n",
       "[481 rows x 10 columns]"
      ]
     },
     "execution_count": 3,
     "metadata": {},
     "output_type": "execute_result"
    }
   ],
   "source": [
    "data"
   ]
  },
  {
   "cell_type": "code",
   "execution_count": 4,
   "metadata": {},
   "outputs": [],
   "source": [
    "data['Call'] = 'Short'\n",
    "data.loc[data['Open']<data['lower_band'], 'Call'] = 'Buy'\n",
    "data.loc[(data['Open']>data['lower_band'])&(data['Open']<data['Bollinger']), 'Call'] = 'Hold Buy'\n",
    "data.loc[(data['Open']>data['Bollinger'])&(data['Open']<data['upper_band']), 'Call'] = 'Hold Short'"
   ]
  },
  {
   "cell_type": "code",
   "execution_count": 5,
   "metadata": {},
   "outputs": [
    {
     "data": {
      "text/plain": [
       "Hold Short    312\n",
       "Hold Buy      153\n",
       "Short          10\n",
       "Buy             6\n",
       "Name: Call, dtype: int64"
      ]
     },
     "execution_count": 5,
     "metadata": {},
     "output_type": "execute_result"
    }
   ],
   "source": [
    "data['Call'].value_counts()"
   ]
  },
  {
   "cell_type": "code",
   "execution_count": 6,
   "metadata": {},
   "outputs": [],
   "source": [
    "X = data[['Open','lower_band', 'Bollinger', 'upper_band']].values\n",
    "y = data[['Call']].values"
   ]
  },
  {
   "cell_type": "markdown",
   "metadata": {},
   "source": [
    "###### Logistic regression"
   ]
  },
  {
   "cell_type": "code",
   "execution_count": 7,
   "metadata": {},
   "outputs": [],
   "source": [
    "from sklearn.model_selection import train_test_split\n",
    "from sklearn.linear_model import LogisticRegression\n",
    "\n",
    "X_train, X_test, y_train, y_test = train_test_split(X, y) \n",
    "lr_clf = LogisticRegression()"
   ]
  },
  {
   "cell_type": "code",
   "execution_count": 8,
   "metadata": {},
   "outputs": [
    {
     "name": "stderr",
     "output_type": "stream",
     "text": [
      "C:\\Users\\user\\anaconda3\\lib\\site-packages\\sklearn\\utils\\validation.py:760: DataConversionWarning: A column-vector y was passed when a 1d array was expected. Please change the shape of y to (n_samples, ), for example using ravel().\n",
      "  y = column_or_1d(y, warn=True)\n",
      "C:\\Users\\user\\anaconda3\\lib\\site-packages\\sklearn\\linear_model\\_logistic.py:940: ConvergenceWarning: lbfgs failed to converge (status=1):\n",
      "STOP: TOTAL NO. of ITERATIONS REACHED LIMIT.\n",
      "\n",
      "Increase the number of iterations (max_iter) or scale the data as shown in:\n",
      "    https://scikit-learn.org/stable/modules/preprocessing.html\n",
      "Please also refer to the documentation for alternative solver options:\n",
      "    https://scikit-learn.org/stable/modules/linear_model.html#logistic-regression\n",
      "  extra_warning_msg=_LOGISTIC_SOLVER_CONVERGENCE_MSG)\n"
     ]
    }
   ],
   "source": [
    "lr_clf.fit(X_train, y_train)\n",
    "y_pred = lr_clf.predict(X_test)"
   ]
  },
  {
   "cell_type": "code",
   "execution_count": 9,
   "metadata": {},
   "outputs": [
    {
     "name": "stdout",
     "output_type": "stream",
     "text": [
      "F1 score: 1.0\n",
      "Acuuracy: 1.0\n"
     ]
    }
   ],
   "source": [
    "from sklearn.metrics import f1_score\n",
    "from sklearn.metrics import accuracy_score\n",
    "\n",
    "print('F1 score:', f1_score(y_test, y_pred,average='weighted'))\n",
    "print('Acuuracy:', accuracy_score(y_test, y_pred))"
   ]
  },
  {
   "cell_type": "markdown",
   "metadata": {},
   "source": [
    "###### Support vector machine"
   ]
  },
  {
   "cell_type": "code",
   "execution_count": 10,
   "metadata": {},
   "outputs": [
    {
     "name": "stderr",
     "output_type": "stream",
     "text": [
      "C:\\Users\\user\\anaconda3\\lib\\site-packages\\sklearn\\utils\\validation.py:760: DataConversionWarning: A column-vector y was passed when a 1d array was expected. Please change the shape of y to (n_samples, ), for example using ravel().\n",
      "  y = column_or_1d(y, warn=True)\n"
     ]
    },
    {
     "data": {
      "text/plain": [
       "SVC(C=1.0, break_ties=False, cache_size=200, class_weight=None, coef0=0.0,\n",
       "    decision_function_shape='ovr', degree=3, gamma='scale', kernel='rbf',\n",
       "    max_iter=-1, probability=False, random_state=None, shrinking=True,\n",
       "    tol=0.001, verbose=False)"
      ]
     },
     "execution_count": 10,
     "metadata": {},
     "output_type": "execute_result"
    }
   ],
   "source": [
    "from sklearn.svm import SVC\n",
    "\n",
    "svm_clf = SVC()\n",
    "svm_clf.fit(X_train, y_train)"
   ]
  },
  {
   "cell_type": "code",
   "execution_count": 11,
   "metadata": {},
   "outputs": [
    {
     "name": "stdout",
     "output_type": "stream",
     "text": [
      "F1 score: 0.8740820629650277\n",
      "Acuuracy: 0.8925619834710744\n"
     ]
    }
   ],
   "source": [
    "print('F1 score:', f1_score(y_test, svm_clf.predict(X_test),average='weighted'))\n",
    "print('Acuuracy:', accuracy_score(y_test, svm_clf.predict(X_test)))"
   ]
  },
  {
   "cell_type": "markdown",
   "metadata": {},
   "source": [
    "###### Decision Tree"
   ]
  },
  {
   "cell_type": "code",
   "execution_count": 12,
   "metadata": {},
   "outputs": [
    {
     "data": {
      "text/plain": [
       "DecisionTreeClassifier(ccp_alpha=0.0, class_weight=None, criterion='gini',\n",
       "                       max_depth=None, max_features=None, max_leaf_nodes=None,\n",
       "                       min_impurity_decrease=0.0, min_impurity_split=None,\n",
       "                       min_samples_leaf=1, min_samples_split=2,\n",
       "                       min_weight_fraction_leaf=0.0, presort='deprecated',\n",
       "                       random_state=None, splitter='best')"
      ]
     },
     "execution_count": 12,
     "metadata": {},
     "output_type": "execute_result"
    }
   ],
   "source": [
    "from sklearn.tree import DecisionTreeClassifier\n",
    "\n",
    "dt_clf = DecisionTreeClassifier()\n",
    "dt_clf.fit(X_train, y_train)"
   ]
  },
  {
   "cell_type": "code",
   "execution_count": 13,
   "metadata": {},
   "outputs": [
    {
     "name": "stdout",
     "output_type": "stream",
     "text": [
      "F1 score: 0.8888371551623793\n",
      "Acuuracy: 0.8925619834710744\n"
     ]
    }
   ],
   "source": [
    "print('F1 score:', f1_score(y_test, dt_clf.predict(X_test),average='weighted'))\n",
    "print('Acuuracy:', accuracy_score(y_test, dt_clf.predict(X_test)))"
   ]
  },
  {
   "cell_type": "markdown",
   "metadata": {},
   "source": [
    "Simple model (Logistic regression) performs better than complex models(SVM, DT)"
   ]
  },
  {
   "cell_type": "markdown",
   "metadata": {},
   "source": [
    "###### VOLTAS dataset"
   ]
  },
  {
   "cell_type": "code",
   "execution_count": 14,
   "metadata": {},
   "outputs": [],
   "source": [
    "voltas = pd.read_csv('VOLTAS.csv')\n",
    "voltas = voltas[voltas['Series']=='EQ'] \n",
    "voltas.Date = pd.to_datetime(voltas['Date'])\n",
    "voltas = voltas.set_index('Date')"
   ]
  },
  {
   "cell_type": "code",
   "execution_count": 15,
   "metadata": {},
   "outputs": [],
   "source": [
    "voltas['Bollinger'] = voltas['Close Price'].rolling(14).mean()\n",
    "std = voltas['Close Price'].rolling(14).std()\n",
    "voltas['upper_band'] = voltas['Bollinger']+2*std\n",
    "voltas['lower_band'] = voltas['Bollinger']-2*std\n",
    "voltas = voltas.dropna()"
   ]
  },
  {
   "cell_type": "code",
   "execution_count": 17,
   "metadata": {},
   "outputs": [
    {
     "data": {
      "text/html": [
       "<div>\n",
       "<style scoped>\n",
       "    .dataframe tbody tr th:only-of-type {\n",
       "        vertical-align: middle;\n",
       "    }\n",
       "\n",
       "    .dataframe tbody tr th {\n",
       "        vertical-align: top;\n",
       "    }\n",
       "\n",
       "    .dataframe thead th {\n",
       "        text-align: right;\n",
       "    }\n",
       "</style>\n",
       "<table border=\"1\" class=\"dataframe\">\n",
       "  <thead>\n",
       "    <tr style=\"text-align: right;\">\n",
       "      <th></th>\n",
       "      <th>Symbol</th>\n",
       "      <th>Series</th>\n",
       "      <th>Prev Close</th>\n",
       "      <th>Open Price</th>\n",
       "      <th>High Price</th>\n",
       "      <th>Low Price</th>\n",
       "      <th>Last Price</th>\n",
       "      <th>Close Price</th>\n",
       "      <th>Average Price</th>\n",
       "      <th>Total Traded Quantity</th>\n",
       "      <th>Turnover</th>\n",
       "      <th>No. of Trades</th>\n",
       "      <th>Deliverable Qty</th>\n",
       "      <th>% Dly Qt to Traded Qty</th>\n",
       "      <th>Bollinger</th>\n",
       "      <th>upper_band</th>\n",
       "      <th>lower_band</th>\n",
       "      <th>Call Predicted</th>\n",
       "    </tr>\n",
       "    <tr>\n",
       "      <th>Date</th>\n",
       "      <th></th>\n",
       "      <th></th>\n",
       "      <th></th>\n",
       "      <th></th>\n",
       "      <th></th>\n",
       "      <th></th>\n",
       "      <th></th>\n",
       "      <th></th>\n",
       "      <th></th>\n",
       "      <th></th>\n",
       "      <th></th>\n",
       "      <th></th>\n",
       "      <th></th>\n",
       "      <th></th>\n",
       "      <th></th>\n",
       "      <th></th>\n",
       "      <th></th>\n",
       "      <th></th>\n",
       "    </tr>\n",
       "  </thead>\n",
       "  <tbody>\n",
       "    <tr>\n",
       "      <th>2017-06-01</th>\n",
       "      <td>VOLTAS</td>\n",
       "      <td>EQ</td>\n",
       "      <td>486.35</td>\n",
       "      <td>486.50</td>\n",
       "      <td>512.6</td>\n",
       "      <td>482.40</td>\n",
       "      <td>509.20</td>\n",
       "      <td>508.85</td>\n",
       "      <td>505.43</td>\n",
       "      <td>4560228</td>\n",
       "      <td>2.304885e+09</td>\n",
       "      <td>65413</td>\n",
       "      <td>895218</td>\n",
       "      <td>19.63</td>\n",
       "      <td>452.500000</td>\n",
       "      <td>523.583937</td>\n",
       "      <td>381.416063</td>\n",
       "      <td>Hold Short</td>\n",
       "    </tr>\n",
       "    <tr>\n",
       "      <th>2017-06-02</th>\n",
       "      <td>VOLTAS</td>\n",
       "      <td>EQ</td>\n",
       "      <td>508.85</td>\n",
       "      <td>513.35</td>\n",
       "      <td>514.0</td>\n",
       "      <td>498.30</td>\n",
       "      <td>501.45</td>\n",
       "      <td>500.45</td>\n",
       "      <td>503.41</td>\n",
       "      <td>2365246</td>\n",
       "      <td>1.190680e+09</td>\n",
       "      <td>39411</td>\n",
       "      <td>592903</td>\n",
       "      <td>25.07</td>\n",
       "      <td>457.400000</td>\n",
       "      <td>531.735311</td>\n",
       "      <td>383.064689</td>\n",
       "      <td>Hold Short</td>\n",
       "    </tr>\n",
       "    <tr>\n",
       "      <th>2017-06-05</th>\n",
       "      <td>VOLTAS</td>\n",
       "      <td>EQ</td>\n",
       "      <td>500.45</td>\n",
       "      <td>501.00</td>\n",
       "      <td>503.0</td>\n",
       "      <td>493.55</td>\n",
       "      <td>494.75</td>\n",
       "      <td>494.95</td>\n",
       "      <td>497.33</td>\n",
       "      <td>1025382</td>\n",
       "      <td>5.099498e+08</td>\n",
       "      <td>29820</td>\n",
       "      <td>254832</td>\n",
       "      <td>24.85</td>\n",
       "      <td>461.864286</td>\n",
       "      <td>537.244618</td>\n",
       "      <td>386.483953</td>\n",
       "      <td>Hold Short</td>\n",
       "    </tr>\n",
       "    <tr>\n",
       "      <th>2017-06-06</th>\n",
       "      <td>VOLTAS</td>\n",
       "      <td>EQ</td>\n",
       "      <td>494.95</td>\n",
       "      <td>495.00</td>\n",
       "      <td>498.3</td>\n",
       "      <td>484.40</td>\n",
       "      <td>485.95</td>\n",
       "      <td>487.00</td>\n",
       "      <td>488.42</td>\n",
       "      <td>1495351</td>\n",
       "      <td>7.303576e+08</td>\n",
       "      <td>46226</td>\n",
       "      <td>760770</td>\n",
       "      <td>50.88</td>\n",
       "      <td>465.921429</td>\n",
       "      <td>540.064458</td>\n",
       "      <td>391.778399</td>\n",
       "      <td>Hold Short</td>\n",
       "    </tr>\n",
       "    <tr>\n",
       "      <th>2017-06-07</th>\n",
       "      <td>VOLTAS</td>\n",
       "      <td>EQ</td>\n",
       "      <td>487.00</td>\n",
       "      <td>490.00</td>\n",
       "      <td>490.0</td>\n",
       "      <td>480.20</td>\n",
       "      <td>484.20</td>\n",
       "      <td>483.25</td>\n",
       "      <td>482.84</td>\n",
       "      <td>1913739</td>\n",
       "      <td>9.240375e+08</td>\n",
       "      <td>41063</td>\n",
       "      <td>1179282</td>\n",
       "      <td>61.62</td>\n",
       "      <td>470.860714</td>\n",
       "      <td>539.111679</td>\n",
       "      <td>402.609750</td>\n",
       "      <td>Hold Short</td>\n",
       "    </tr>\n",
       "  </tbody>\n",
       "</table>\n",
       "</div>"
      ],
      "text/plain": [
       "            Symbol Series  Prev Close  Open Price  High Price  Low Price  \\\n",
       "Date                                                                       \n",
       "2017-06-01  VOLTAS     EQ      486.35      486.50       512.6     482.40   \n",
       "2017-06-02  VOLTAS     EQ      508.85      513.35       514.0     498.30   \n",
       "2017-06-05  VOLTAS     EQ      500.45      501.00       503.0     493.55   \n",
       "2017-06-06  VOLTAS     EQ      494.95      495.00       498.3     484.40   \n",
       "2017-06-07  VOLTAS     EQ      487.00      490.00       490.0     480.20   \n",
       "\n",
       "            Last Price  Close Price  Average Price  Total Traded Quantity  \\\n",
       "Date                                                                        \n",
       "2017-06-01      509.20       508.85         505.43                4560228   \n",
       "2017-06-02      501.45       500.45         503.41                2365246   \n",
       "2017-06-05      494.75       494.95         497.33                1025382   \n",
       "2017-06-06      485.95       487.00         488.42                1495351   \n",
       "2017-06-07      484.20       483.25         482.84                1913739   \n",
       "\n",
       "                Turnover  No. of Trades  Deliverable Qty  \\\n",
       "Date                                                       \n",
       "2017-06-01  2.304885e+09          65413           895218   \n",
       "2017-06-02  1.190680e+09          39411           592903   \n",
       "2017-06-05  5.099498e+08          29820           254832   \n",
       "2017-06-06  7.303576e+08          46226           760770   \n",
       "2017-06-07  9.240375e+08          41063          1179282   \n",
       "\n",
       "            % Dly Qt to Traded Qty   Bollinger  upper_band  lower_band  \\\n",
       "Date                                                                     \n",
       "2017-06-01                   19.63  452.500000  523.583937  381.416063   \n",
       "2017-06-02                   25.07  457.400000  531.735311  383.064689   \n",
       "2017-06-05                   24.85  461.864286  537.244618  386.483953   \n",
       "2017-06-06                   50.88  465.921429  540.064458  391.778399   \n",
       "2017-06-07                   61.62  470.860714  539.111679  402.609750   \n",
       "\n",
       "           Call Predicted  \n",
       "Date                       \n",
       "2017-06-01     Hold Short  \n",
       "2017-06-02     Hold Short  \n",
       "2017-06-05     Hold Short  \n",
       "2017-06-06     Hold Short  \n",
       "2017-06-07     Hold Short  "
      ]
     },
     "execution_count": 17,
     "metadata": {},
     "output_type": "execute_result"
    }
   ],
   "source": [
    "X = voltas[['Close Price', 'lower_band', 'Bollinger', 'upper_band']].values\n",
    "voltas['Call Predicted'] = lr_clf.predict(X)\n",
    "voltas.head()"
   ]
  },
  {
   "cell_type": "markdown",
   "metadata": {},
   "source": [
    "## 4.2 Classification to make Trade Call"
   ]
  },
  {
   "cell_type": "code",
   "execution_count": 18,
   "metadata": {},
   "outputs": [
    {
     "name": "stdout",
     "output_type": "stream",
     "text": [
      "<class 'pandas.core.frame.DataFrame'>\n",
      "DatetimeIndex: 494 entries, 2017-05-15 to 2019-05-13\n",
      "Data columns (total 14 columns):\n",
      " #   Column                  Non-Null Count  Dtype  \n",
      "---  ------                  --------------  -----  \n",
      " 0   Symbol                  494 non-null    object \n",
      " 1   Series                  494 non-null    object \n",
      " 2   Prev Close              494 non-null    float64\n",
      " 3   Open Price              494 non-null    float64\n",
      " 4   High Price              494 non-null    float64\n",
      " 5   Low Price               494 non-null    float64\n",
      " 6   Last Price              494 non-null    float64\n",
      " 7   Close Price             494 non-null    float64\n",
      " 8   Average Price           494 non-null    float64\n",
      " 9   Total Traded Quantity   494 non-null    int64  \n",
      " 10  Turnover                494 non-null    float64\n",
      " 11  No. of Trades           494 non-null    int64  \n",
      " 12  Deliverable Qty         494 non-null    int64  \n",
      " 13  % Dly Qt to Traded Qty  494 non-null    float64\n",
      "dtypes: float64(9), int64(3), object(2)\n",
      "memory usage: 57.9+ KB\n"
     ]
    }
   ],
   "source": [
    "voltas2 = pd.read_csv('VOLTAS.csv')\n",
    "voltas2 = voltas2[voltas2['Series']=='EQ'] \n",
    "voltas2.Date = pd.to_datetime(voltas2['Date'])\n",
    "voltas2 = voltas2.set_index('Date')\n",
    "voltas2.info()"
   ]
  },
  {
   "cell_type": "code",
   "execution_count": 19,
   "metadata": {},
   "outputs": [],
   "source": [
    "voltas2['open_close_perc'] = ((voltas2['Open Price']-voltas2['Close Price'])/voltas2['Open Price'])*100\n",
    "voltas2['high_low_perc'] = ((voltas2['High Price']-voltas2['Low Price'])/voltas2['High Price'])*100\n",
    "voltas2['roll5_mean_perc'] = (voltas2['Close Price'].rolling(5).mean()).pct_change()*100\n",
    "voltas2['roll5_std_perc'] = (voltas2['Close Price'].rolling(5).std()).pct_change()*100\n",
    "voltas2 = voltas2.fillna(0)"
   ]
  },
  {
   "cell_type": "code",
   "execution_count": 20,
   "metadata": {},
   "outputs": [],
   "source": [
    "l=[]\n",
    "for i in range(493):\n",
    "    if voltas2['Close Price'][i]<voltas2['Close Price'][i+1]:\n",
    "        l.append(1)\n",
    "    elif voltas2['Close Price'][i]>voltas2['Close Price'][i+1]:\n",
    "        l.append(-1)\n",
    "    else:\n",
    "        l.append('NaN')\n",
    "l.append('NaN')\n",
    "\n",
    "voltas2['Action'] =  np.array([l]).reshape((len(l),1))   "
   ]
  },
  {
   "cell_type": "code",
   "execution_count": 21,
   "metadata": {},
   "outputs": [],
   "source": [
    "X = voltas2[['open_close_perc', 'high_low_perc', 'roll5_mean_perc', 'roll5_std_perc']].values\n",
    "y = voltas2[['Action']].values"
   ]
  },
  {
   "cell_type": "code",
   "execution_count": 22,
   "metadata": {},
   "outputs": [
    {
     "name": "stderr",
     "output_type": "stream",
     "text": [
      "C:\\Users\\user\\anaconda3\\lib\\site-packages\\ipykernel_launcher.py:6: DataConversionWarning: A column-vector y was passed when a 1d array was expected. Please change the shape of y to (n_samples,), for example using ravel().\n",
      "  \n"
     ]
    },
    {
     "data": {
      "text/plain": [
       "RandomForestClassifier(bootstrap=True, ccp_alpha=0.0, class_weight=None,\n",
       "                       criterion='gini', max_depth=None, max_features='auto',\n",
       "                       max_leaf_nodes=None, max_samples=None,\n",
       "                       min_impurity_decrease=0.0, min_impurity_split=None,\n",
       "                       min_samples_leaf=1, min_samples_split=2,\n",
       "                       min_weight_fraction_leaf=0.0, n_estimators=100,\n",
       "                       n_jobs=None, oob_score=False, random_state=None,\n",
       "                       verbose=0, warm_start=False)"
      ]
     },
     "execution_count": 22,
     "metadata": {},
     "output_type": "execute_result"
    }
   ],
   "source": [
    "X_train, X_test, y_train, y_test = train_test_split(X, y) \n",
    "\n",
    "from sklearn.ensemble import RandomForestClassifier\n",
    "\n",
    "rf_clf = RandomForestClassifier()\n",
    "rf_clf.fit(X_train, y_train)"
   ]
  },
  {
   "cell_type": "code",
   "execution_count": 23,
   "metadata": {},
   "outputs": [
    {
     "name": "stdout",
     "output_type": "stream",
     "text": [
      "Accuracy: 0.532258064516129\n"
     ]
    }
   ],
   "source": [
    "print('Accuracy:', accuracy_score(y_test, rf_clf.predict(X_test)))"
   ]
  },
  {
   "cell_type": "code",
   "execution_count": 48,
   "metadata": {},
   "outputs": [
    {
     "data": {
      "image/png": "[encoded data removed]",
      "text/plain": [
       "<Figure size 1080x432 with 1 Axes>"
      ]
     },
     "metadata": {
      "needs_background": "light"
     },
     "output_type": "display_data"
    }
   ],
   "source": [
    "pridicted_Y = rf_clf.predict(X)[:-1].astype('int')\n",
    "pridicted_Y = np.hstack((1, pridicted_Y))\n",
    "\n",
    "raw = np.array([i*j for i, j in zip(pridicted_Y, voltas2['Close Price'])])\n",
    "\n",
    "temp = [1, ]\n",
    "\n",
    "for i in range(1, len(pridicted_Y)):\n",
    "    if pridicted_Y[i] < 1:\n",
    "        continue    \n",
    "    else:\n",
    "        profit = (voltas2['Close Price'][i] - abs(voltas2['Close Price'][i-1])) / abs(voltas2['Close Price'][i-1])\n",
    "        temp.append(profit)\n",
    "\n",
    "\n",
    "returns_perc = []\n",
    "for i in range(1, len(temp)):\n",
    "    returns_perc.append(np.sum(temp[:i]))\n",
    "\n",
    "fig, ax  = plt.subplots(figsize=(15, 6))\n",
    "ax.plot(range(len(returns_perc)), returns_perc)\n",
    "plt.show()"
   ]
  },
  {
   "cell_type": "code",
   "execution_count": null,
   "metadata": {},
   "outputs": [],
   "source": []
  }
 ],
 "metadata": {
  "kernelspec": {
   "display_name": "Python 3",
   "language": "python",
   "name": "python3"
  },
  "language_info": {
   "codemirror_mode": {
    "name": "ipython",
    "version": 3
   },
   "file_extension": ".py",
   "mimetype": "text/x-python",
   "name": "python",
   "nbconvert_exporter": "python",
   "pygments_lexer": "ipython3",
   "version": "3.7.6"
  }
 },
 "nbformat": 4,
 "nbformat_minor": 4
}
