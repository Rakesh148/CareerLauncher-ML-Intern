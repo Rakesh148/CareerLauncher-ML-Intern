{
 "cells": [
  {
   "cell_type": "markdown",
   "metadata": {},
   "source": [
    "# Module-3: Fundamental analysis using Regression"
   ]
  },
  {
   "cell_type": "markdown",
   "metadata": {},
   "source": [
    "###### Loading required libraries"
   ]
  },
  {
   "cell_type": "code",
   "execution_count": 1,
   "metadata": {},
   "outputs": [],
   "source": [
    "import pandas as pd\n",
    "import numpy as np\n",
    "import matplotlib.pyplot as plt\n",
    "import seaborn as sns"
   ]
  },
  {
   "cell_type": "markdown",
   "metadata": {},
   "source": [
    "## 3.1 Loading dataset , CAPM Analysis and Beta Calculation using regression "
   ]
  },
  {
   "cell_type": "code",
   "execution_count": 2,
   "metadata": {},
   "outputs": [
    {
     "name": "stdout",
     "output_type": "stream",
     "text": [
      "True\n"
     ]
    },
    {
     "data": {
      "text/html": [
       "<div>\n",
       "<style scoped>\n",
       "    .dataframe tbody tr th:only-of-type {\n",
       "        vertical-align: middle;\n",
       "    }\n",
       "\n",
       "    .dataframe tbody tr th {\n",
       "        vertical-align: top;\n",
       "    }\n",
       "\n",
       "    .dataframe thead th {\n",
       "        text-align: right;\n",
       "    }\n",
       "</style>\n",
       "<table border=\"1\" class=\"dataframe\">\n",
       "  <thead>\n",
       "    <tr style=\"text-align: right;\">\n",
       "      <th></th>\n",
       "      <th>Price</th>\n",
       "      <th>Open</th>\n",
       "      <th>High</th>\n",
       "      <th>Low</th>\n",
       "      <th>Vol.</th>\n",
       "      <th>Change %</th>\n",
       "      <th>Pred</th>\n",
       "      <th>new</th>\n",
       "    </tr>\n",
       "    <tr>\n",
       "      <th>Date</th>\n",
       "      <th></th>\n",
       "      <th></th>\n",
       "      <th></th>\n",
       "      <th></th>\n",
       "      <th></th>\n",
       "      <th></th>\n",
       "      <th></th>\n",
       "      <th></th>\n",
       "    </tr>\n",
       "  </thead>\n",
       "  <tbody>\n",
       "    <tr>\n",
       "      <th>2017-05-04</th>\n",
       "      <td>28060</td>\n",
       "      <td>28400</td>\n",
       "      <td>28482</td>\n",
       "      <td>28025</td>\n",
       "      <td>0.08K</td>\n",
       "      <td>-1.79%</td>\n",
       "      <td>738.0</td>\n",
       "      <td>117.570740</td>\n",
       "    </tr>\n",
       "    <tr>\n",
       "      <th>2017-05-05</th>\n",
       "      <td>28184</td>\n",
       "      <td>28136</td>\n",
       "      <td>28382</td>\n",
       "      <td>28135</td>\n",
       "      <td>0.06K</td>\n",
       "      <td>0.44%</td>\n",
       "      <td>-146.0</td>\n",
       "      <td>295.430176</td>\n",
       "    </tr>\n",
       "    <tr>\n",
       "      <th>2017-05-08</th>\n",
       "      <td>28119</td>\n",
       "      <td>28145</td>\n",
       "      <td>28255</td>\n",
       "      <td>28097</td>\n",
       "      <td>7.85K</td>\n",
       "      <td>-0.23%</td>\n",
       "      <td>30.0</td>\n",
       "      <td>132.123714</td>\n",
       "    </tr>\n",
       "    <tr>\n",
       "      <th>2017-05-09</th>\n",
       "      <td>27981</td>\n",
       "      <td>28125</td>\n",
       "      <td>28192</td>\n",
       "      <td>27947</td>\n",
       "      <td>10.10K</td>\n",
       "      <td>-0.49%</td>\n",
       "      <td>357.0</td>\n",
       "      <td>101.298064</td>\n",
       "    </tr>\n",
       "    <tr>\n",
       "      <th>2017-05-10</th>\n",
       "      <td>28007</td>\n",
       "      <td>28060</td>\n",
       "      <td>28146</td>\n",
       "      <td>27981</td>\n",
       "      <td>9.28K</td>\n",
       "      <td>0.09%</td>\n",
       "      <td>124.0</td>\n",
       "      <td>112.153318</td>\n",
       "    </tr>\n",
       "  </tbody>\n",
       "</table>\n",
       "</div>"
      ],
      "text/plain": [
       "            Price   Open   High    Low    Vol. Change %   Pred         new\n",
       "Date                                                                      \n",
       "2017-05-04  28060  28400  28482  28025   0.08K   -1.79%  738.0  117.570740\n",
       "2017-05-05  28184  28136  28382  28135   0.06K    0.44% -146.0  295.430176\n",
       "2017-05-08  28119  28145  28255  28097   7.85K   -0.23%   30.0  132.123714\n",
       "2017-05-09  27981  28125  28192  27947  10.10K   -0.49%  357.0  101.298064\n",
       "2017-05-10  28007  28060  28146  27981   9.28K    0.09%  124.0  112.153318"
      ]
     },
     "execution_count": 2,
     "metadata": {},
     "output_type": "execute_result"
    }
   ],
   "source": [
    "data = pd.read_csv('GOLD.csv')\n",
    "data['Date'] = pd.to_datetime(data['Date'])\n",
    "data = data.set_index('Date')\n",
    "print(data.index.dtype == \"datetime64[ns]\")\n",
    "data.head()"
   ]
  },
  {
   "cell_type": "code",
   "execution_count": 3,
   "metadata": {},
   "outputs": [
    {
     "name": "stdout",
     "output_type": "stream",
     "text": [
      "<class 'pandas.core.frame.DataFrame'>\n",
      "DatetimeIndex: 512 entries, 2017-05-04 to 2019-05-03\n",
      "Data columns (total 8 columns):\n",
      " #   Column    Non-Null Count  Dtype  \n",
      "---  ------    --------------  -----  \n",
      " 0   Price     512 non-null    int64  \n",
      " 1   Open      512 non-null    int64  \n",
      " 2   High      512 non-null    int64  \n",
      " 3   Low       512 non-null    int64  \n",
      " 4   Vol.      512 non-null    object \n",
      " 5   Change %  512 non-null    object \n",
      " 6   Pred      411 non-null    float64\n",
      " 7   new       512 non-null    float64\n",
      "dtypes: float64(2), int64(4), object(2)\n",
      "memory usage: 36.0+ KB\n",
      "None\n"
     ]
    },
    {
     "data": {
      "text/html": [
       "<div>\n",
       "<style scoped>\n",
       "    .dataframe tbody tr th:only-of-type {\n",
       "        vertical-align: middle;\n",
       "    }\n",
       "\n",
       "    .dataframe tbody tr th {\n",
       "        vertical-align: top;\n",
       "    }\n",
       "\n",
       "    .dataframe thead th {\n",
       "        text-align: right;\n",
       "    }\n",
       "</style>\n",
       "<table border=\"1\" class=\"dataframe\">\n",
       "  <thead>\n",
       "    <tr style=\"text-align: right;\">\n",
       "      <th></th>\n",
       "      <th>Price</th>\n",
       "      <th>Open</th>\n",
       "      <th>High</th>\n",
       "      <th>Low</th>\n",
       "      <th>Vol.</th>\n",
       "      <th>Change %</th>\n",
       "      <th>Pred</th>\n",
       "      <th>new</th>\n",
       "    </tr>\n",
       "    <tr>\n",
       "      <th>Date</th>\n",
       "      <th></th>\n",
       "      <th></th>\n",
       "      <th></th>\n",
       "      <th></th>\n",
       "      <th></th>\n",
       "      <th></th>\n",
       "      <th></th>\n",
       "      <th></th>\n",
       "    </tr>\n",
       "  </thead>\n",
       "  <tbody>\n",
       "    <tr>\n",
       "      <th>2019-04-26</th>\n",
       "      <td>31868</td>\n",
       "      <td>31851</td>\n",
       "      <td>31934</td>\n",
       "      <td>31705</td>\n",
       "      <td>9.67K</td>\n",
       "      <td>0.08%</td>\n",
       "      <td>NaN</td>\n",
       "      <td>247.177322</td>\n",
       "    </tr>\n",
       "    <tr>\n",
       "      <th>2019-04-30</th>\n",
       "      <td>31625</td>\n",
       "      <td>31800</td>\n",
       "      <td>31824</td>\n",
       "      <td>31597</td>\n",
       "      <td>6.44K</td>\n",
       "      <td>-0.76%</td>\n",
       "      <td>NaN</td>\n",
       "      <td>52.201158</td>\n",
       "    </tr>\n",
       "    <tr>\n",
       "      <th>2019-05-01</th>\n",
       "      <td>31563</td>\n",
       "      <td>31604</td>\n",
       "      <td>31657</td>\n",
       "      <td>31503</td>\n",
       "      <td>1.55K</td>\n",
       "      <td>-0.20%</td>\n",
       "      <td>NaN</td>\n",
       "      <td>113.293305</td>\n",
       "    </tr>\n",
       "    <tr>\n",
       "      <th>2019-05-02</th>\n",
       "      <td>31203</td>\n",
       "      <td>31420</td>\n",
       "      <td>31425</td>\n",
       "      <td>31160</td>\n",
       "      <td>0.48K</td>\n",
       "      <td>-1.14%</td>\n",
       "      <td>NaN</td>\n",
       "      <td>48.365693</td>\n",
       "    </tr>\n",
       "    <tr>\n",
       "      <th>2019-05-03</th>\n",
       "      <td>31341</td>\n",
       "      <td>31250</td>\n",
       "      <td>31500</td>\n",
       "      <td>31163</td>\n",
       "      <td>0.08K</td>\n",
       "      <td>0.44%</td>\n",
       "      <td>NaN</td>\n",
       "      <td>429.924911</td>\n",
       "    </tr>\n",
       "  </tbody>\n",
       "</table>\n",
       "</div>"
      ],
      "text/plain": [
       "            Price   Open   High    Low   Vol. Change %  Pred         new\n",
       "Date                                                                    \n",
       "2019-04-26  31868  31851  31934  31705  9.67K    0.08%   NaN  247.177322\n",
       "2019-04-30  31625  31800  31824  31597  6.44K   -0.76%   NaN   52.201158\n",
       "2019-05-01  31563  31604  31657  31503  1.55K   -0.20%   NaN  113.293305\n",
       "2019-05-02  31203  31420  31425  31160  0.48K   -1.14%   NaN   48.365693\n",
       "2019-05-03  31341  31250  31500  31163  0.08K    0.44%   NaN  429.924911"
      ]
     },
     "execution_count": 3,
     "metadata": {},
     "output_type": "execute_result"
    }
   ],
   "source": [
    "print(data.info())\n",
    "data.tail()"
   ]
  },
  {
   "cell_type": "code",
   "execution_count": 4,
   "metadata": {},
   "outputs": [
    {
     "name": "stdout",
     "output_type": "stream",
     "text": [
      "starting_row: 411\n"
     ]
    }
   ],
   "source": [
    "empties = np.where(pd.isnull(data))\n",
    "print('starting_row:',  empties[0][0])"
   ]
  },
  {
   "cell_type": "markdown",
   "metadata": {},
   "source": [
    "'Pred' column has only 411 non-null values out of 512 instances. The missing values at the end of the column."
   ]
  },
  {
   "cell_type": "code",
   "execution_count": 5,
   "metadata": {},
   "outputs": [],
   "source": [
    "data_dropped = data.dropna()     # dataset with no missing values\n",
    "data_to_fill = data.iloc[411:, :]   # dataset with missing/to fill values"
   ]
  },
  {
   "cell_type": "code",
   "execution_count": 6,
   "metadata": {},
   "outputs": [],
   "source": [
    "X = data_dropped[['Open', 'High', 'Low']].values\n",
    "pred = data_dropped.Pred.values\n",
    "new = data_dropped.new.values"
   ]
  },
  {
   "cell_type": "code",
   "execution_count": 7,
   "metadata": {},
   "outputs": [
    {
     "name": "stdout",
     "output_type": "stream",
     "text": [
      "Pred column score: 0.796205928915779\n"
     ]
    }
   ],
   "source": [
    "from sklearn.linear_model import LinearRegression\n",
    "lin_reg = LinearRegression()\n",
    "lin_reg.fit(X, pred)\n",
    "print('Pred column score:', lin_reg.score(X, pred))\n",
    "data_to_fill_pred = lin_reg.predict(data_to_fill[['Open', 'High', 'Low']])    #Predicting the 'Pred' feature\n",
    "data.Pred = np.hstack((data_dropped['Pred'].values, data_to_fill_pred))  # stacking predicted values to 'Pred' column"
   ]
  },
  {
   "cell_type": "code",
   "execution_count": 8,
   "metadata": {},
   "outputs": [
    {
     "name": "stdout",
     "output_type": "stream",
     "text": [
      "<class 'pandas.core.frame.DataFrame'>\n",
      "DatetimeIndex: 512 entries, 2017-05-04 to 2019-05-03\n",
      "Data columns (total 8 columns):\n",
      " #   Column    Non-Null Count  Dtype  \n",
      "---  ------    --------------  -----  \n",
      " 0   Price     512 non-null    int64  \n",
      " 1   Open      512 non-null    int64  \n",
      " 2   High      512 non-null    int64  \n",
      " 3   Low       512 non-null    int64  \n",
      " 4   Vol.      512 non-null    object \n",
      " 5   Change %  512 non-null    object \n",
      " 6   Pred      512 non-null    float64\n",
      " 7   new       512 non-null    float64\n",
      "dtypes: float64(2), int64(4), object(2)\n",
      "memory usage: 36.0+ KB\n"
     ]
    }
   ],
   "source": [
    "data.info()"
   ]
  },
  {
   "cell_type": "markdown",
   "metadata": {},
   "source": [
    "'Pred' have no missing values"
   ]
  },
  {
   "cell_type": "code",
   "execution_count": 9,
   "metadata": {},
   "outputs": [
    {
     "name": "stdout",
     "output_type": "stream",
     "text": [
      "new column score: 0.9052828458304785\n"
     ]
    }
   ],
   "source": [
    "lin_reg2 = LinearRegression()\n",
    "lin_reg2.fit(X, new)\n",
    "data_new_pred = lin_reg2.predict(X)\n",
    "print('new column score:', lin_reg2.score(X, new))"
   ]
  },
  {
   "cell_type": "markdown",
   "metadata": {},
   "source": [
    "###### Since score with 'new' column is high, It is the linear function of the given features and 'Pred' column is polynomial function of the given features"
   ]
  },
  {
   "cell_type": "markdown",
   "metadata": {},
   "source": [
    "##### Distribution plot of 'Pred'"
   ]
  },
  {
   "cell_type": "code",
   "execution_count": 10,
   "metadata": {},
   "outputs": [
    {
     "data": {
      "image/png": "[encoded data removed]",
      "text/plain": [
       "<Figure size 720x576 with 1 Axes>"
      ]
     },
     "metadata": {
      "needs_background": "light"
     },
     "output_type": "display_data"
    }
   ],
   "source": [
    "fig, ax = plt.subplots(figsize=(10,8))\n",
    "ax = sns.distplot(data_to_fill_pred,bins=50, label = \"Predicted distribution of 'Pred' \" , color=\"r\",ax=ax)\n",
    "ax = sns.distplot(data_dropped['Pred'], bins=50,label = \"Actual distribution of 'Pred' \" , color=\"g\",ax=ax)\n",
    "plt.show()"
   ]
  },
  {
   "cell_type": "markdown",
   "metadata": {},
   "source": [
    "##### Distribution plot of 'new'"
   ]
  },
  {
   "cell_type": "code",
   "execution_count": 11,
   "metadata": {},
   "outputs": [
    {
     "data": {
      "image/png": "[encoded data removed]",
      "text/plain": [
       "<Figure size 720x576 with 1 Axes>"
      ]
     },
     "metadata": {
      "needs_background": "light"
     },
     "output_type": "display_data"
    }
   ],
   "source": [
    "fig, ax = plt.subplots(figsize=(10,8))\n",
    "ax = sns.distplot(data_new_pred,bins=50, label = \"Predicted distribution of 'Pred' \" , color=\"r\",ax=ax)\n",
    "ax = sns.distplot(data_dropped['new'], bins=50,label= \"Actual distribution of 'Pred' \" , color=\"g\",ax=ax)\n",
    "plt.show()"
   ]
  },
  {
   "cell_type": "markdown",
   "metadata": {},
   "source": [
    "###### NOTE : As we can see the distribution plot of 'new' has maximum overlapping with actual distribution. So 'new' feature is linearly related with the input features."
   ]
  },
  {
   "cell_type": "markdown",
   "metadata": {},
   "source": [
    "## 3.2  Beta calculation"
   ]
  },
  {
   "cell_type": "code",
   "execution_count": 12,
   "metadata": {},
   "outputs": [],
   "source": [
    "voltas = pd.read_csv('VOLTAS.csv')\n",
    "voltas = voltas[voltas[\"Series\"] == \"EQ\"]\n",
    "voltas.Date = pd.to_datetime(voltas['Date'])\n",
    "voltas = voltas.set_index('Date')\n",
    "\n",
    "nifty = pd.read_csv('Nifty50.csv')\n",
    "nifty.Date = pd.to_datetime(nifty['Date'])\n",
    "nifty = nifty.set_index('Date')"
   ]
  },
  {
   "cell_type": "code",
   "execution_count": 13,
   "metadata": {},
   "outputs": [
    {
     "data": {
      "text/html": [
       "<div>\n",
       "<style scoped>\n",
       "    .dataframe tbody tr th:only-of-type {\n",
       "        vertical-align: middle;\n",
       "    }\n",
       "\n",
       "    .dataframe tbody tr th {\n",
       "        vertical-align: top;\n",
       "    }\n",
       "\n",
       "    .dataframe thead th {\n",
       "        text-align: right;\n",
       "    }\n",
       "</style>\n",
       "<table border=\"1\" class=\"dataframe\">\n",
       "  <thead>\n",
       "    <tr style=\"text-align: right;\">\n",
       "      <th></th>\n",
       "      <th>Symbol</th>\n",
       "      <th>Series</th>\n",
       "      <th>Prev Close</th>\n",
       "      <th>Open Price</th>\n",
       "      <th>High Price</th>\n",
       "      <th>Low Price</th>\n",
       "      <th>Last Price</th>\n",
       "      <th>Close Price</th>\n",
       "      <th>Average Price</th>\n",
       "      <th>Total Traded Quantity</th>\n",
       "      <th>Turnover</th>\n",
       "      <th>No. of Trades</th>\n",
       "      <th>Deliverable Qty</th>\n",
       "      <th>% Dly Qt to Traded Qty</th>\n",
       "    </tr>\n",
       "    <tr>\n",
       "      <th>Date</th>\n",
       "      <th></th>\n",
       "      <th></th>\n",
       "      <th></th>\n",
       "      <th></th>\n",
       "      <th></th>\n",
       "      <th></th>\n",
       "      <th></th>\n",
       "      <th></th>\n",
       "      <th></th>\n",
       "      <th></th>\n",
       "      <th></th>\n",
       "      <th></th>\n",
       "      <th></th>\n",
       "      <th></th>\n",
       "    </tr>\n",
       "  </thead>\n",
       "  <tbody>\n",
       "    <tr>\n",
       "      <th>2017-05-15</th>\n",
       "      <td>VOLTAS</td>\n",
       "      <td>EQ</td>\n",
       "      <td>433.55</td>\n",
       "      <td>436.00</td>\n",
       "      <td>436.4</td>\n",
       "      <td>430.10</td>\n",
       "      <td>433.40</td>\n",
       "      <td>431.85</td>\n",
       "      <td>432.15</td>\n",
       "      <td>696583</td>\n",
       "      <td>3.010253e+08</td>\n",
       "      <td>14160</td>\n",
       "      <td>327583</td>\n",
       "      <td>47.03</td>\n",
       "    </tr>\n",
       "    <tr>\n",
       "      <th>2017-05-16</th>\n",
       "      <td>VOLTAS</td>\n",
       "      <td>EQ</td>\n",
       "      <td>431.85</td>\n",
       "      <td>432.00</td>\n",
       "      <td>438.2</td>\n",
       "      <td>430.70</td>\n",
       "      <td>433.00</td>\n",
       "      <td>432.45</td>\n",
       "      <td>433.46</td>\n",
       "      <td>996780</td>\n",
       "      <td>4.320614e+08</td>\n",
       "      <td>19456</td>\n",
       "      <td>366664</td>\n",
       "      <td>36.78</td>\n",
       "    </tr>\n",
       "    <tr>\n",
       "      <th>2017-05-17</th>\n",
       "      <td>VOLTAS</td>\n",
       "      <td>EQ</td>\n",
       "      <td>432.45</td>\n",
       "      <td>435.00</td>\n",
       "      <td>435.0</td>\n",
       "      <td>427.25</td>\n",
       "      <td>430.85</td>\n",
       "      <td>430.20</td>\n",
       "      <td>429.93</td>\n",
       "      <td>686830</td>\n",
       "      <td>2.952867e+08</td>\n",
       "      <td>11494</td>\n",
       "      <td>307390</td>\n",
       "      <td>44.75</td>\n",
       "    </tr>\n",
       "    <tr>\n",
       "      <th>2017-05-18</th>\n",
       "      <td>VOLTAS</td>\n",
       "      <td>EQ</td>\n",
       "      <td>430.20</td>\n",
       "      <td>425.10</td>\n",
       "      <td>427.0</td>\n",
       "      <td>412.70</td>\n",
       "      <td>414.50</td>\n",
       "      <td>414.10</td>\n",
       "      <td>418.14</td>\n",
       "      <td>1231618</td>\n",
       "      <td>5.149912e+08</td>\n",
       "      <td>18700</td>\n",
       "      <td>571822</td>\n",
       "      <td>46.43</td>\n",
       "    </tr>\n",
       "    <tr>\n",
       "      <th>2017-05-19</th>\n",
       "      <td>VOLTAS</td>\n",
       "      <td>EQ</td>\n",
       "      <td>414.10</td>\n",
       "      <td>414.35</td>\n",
       "      <td>419.9</td>\n",
       "      <td>410.95</td>\n",
       "      <td>416.00</td>\n",
       "      <td>415.75</td>\n",
       "      <td>414.98</td>\n",
       "      <td>869457</td>\n",
       "      <td>3.608041e+08</td>\n",
       "      <td>29631</td>\n",
       "      <td>313872</td>\n",
       "      <td>36.10</td>\n",
       "    </tr>\n",
       "  </tbody>\n",
       "</table>\n",
       "</div>"
      ],
      "text/plain": [
       "            Symbol Series  Prev Close  Open Price  High Price  Low Price  \\\n",
       "Date                                                                       \n",
       "2017-05-15  VOLTAS     EQ      433.55      436.00       436.4     430.10   \n",
       "2017-05-16  VOLTAS     EQ      431.85      432.00       438.2     430.70   \n",
       "2017-05-17  VOLTAS     EQ      432.45      435.00       435.0     427.25   \n",
       "2017-05-18  VOLTAS     EQ      430.20      425.10       427.0     412.70   \n",
       "2017-05-19  VOLTAS     EQ      414.10      414.35       419.9     410.95   \n",
       "\n",
       "            Last Price  Close Price  Average Price  Total Traded Quantity  \\\n",
       "Date                                                                        \n",
       "2017-05-15      433.40       431.85         432.15                 696583   \n",
       "2017-05-16      433.00       432.45         433.46                 996780   \n",
       "2017-05-17      430.85       430.20         429.93                 686830   \n",
       "2017-05-18      414.50       414.10         418.14                1231618   \n",
       "2017-05-19      416.00       415.75         414.98                 869457   \n",
       "\n",
       "                Turnover  No. of Trades  Deliverable Qty  \\\n",
       "Date                                                       \n",
       "2017-05-15  3.010253e+08          14160           327583   \n",
       "2017-05-16  4.320614e+08          19456           366664   \n",
       "2017-05-17  2.952867e+08          11494           307390   \n",
       "2017-05-18  5.149912e+08          18700           571822   \n",
       "2017-05-19  3.608041e+08          29631           313872   \n",
       "\n",
       "            % Dly Qt to Traded Qty  \n",
       "Date                                \n",
       "2017-05-15                   47.03  \n",
       "2017-05-16                   36.78  \n",
       "2017-05-17                   44.75  \n",
       "2017-05-18                   46.43  \n",
       "2017-05-19                   36.10  "
      ]
     },
     "execution_count": 13,
     "metadata": {},
     "output_type": "execute_result"
    }
   ],
   "source": [
    "voltas.head()"
   ]
  },
  {
   "cell_type": "code",
   "execution_count": 14,
   "metadata": {},
   "outputs": [
    {
     "data": {
      "text/html": [
       "<div>\n",
       "<style scoped>\n",
       "    .dataframe tbody tr th:only-of-type {\n",
       "        vertical-align: middle;\n",
       "    }\n",
       "\n",
       "    .dataframe tbody tr th {\n",
       "        vertical-align: top;\n",
       "    }\n",
       "\n",
       "    .dataframe thead th {\n",
       "        text-align: right;\n",
       "    }\n",
       "</style>\n",
       "<table border=\"1\" class=\"dataframe\">\n",
       "  <thead>\n",
       "    <tr style=\"text-align: right;\">\n",
       "      <th></th>\n",
       "      <th>Open</th>\n",
       "      <th>High</th>\n",
       "      <th>Low</th>\n",
       "      <th>Close</th>\n",
       "      <th>Shares Traded</th>\n",
       "      <th>Turnover (Rs. Cr)</th>\n",
       "    </tr>\n",
       "    <tr>\n",
       "      <th>Date</th>\n",
       "      <th></th>\n",
       "      <th></th>\n",
       "      <th></th>\n",
       "      <th></th>\n",
       "      <th></th>\n",
       "      <th></th>\n",
       "    </tr>\n",
       "  </thead>\n",
       "  <tbody>\n",
       "    <tr>\n",
       "      <th>2017-05-15</th>\n",
       "      <td>9433.55</td>\n",
       "      <td>9449.25</td>\n",
       "      <td>9423.10</td>\n",
       "      <td>9445.40</td>\n",
       "      <td>145163953</td>\n",
       "      <td>7790.97</td>\n",
       "    </tr>\n",
       "    <tr>\n",
       "      <th>2017-05-16</th>\n",
       "      <td>9461.00</td>\n",
       "      <td>9517.20</td>\n",
       "      <td>9456.35</td>\n",
       "      <td>9512.25</td>\n",
       "      <td>171709433</td>\n",
       "      <td>9209.89</td>\n",
       "    </tr>\n",
       "    <tr>\n",
       "      <th>2017-05-17</th>\n",
       "      <td>9517.60</td>\n",
       "      <td>9532.60</td>\n",
       "      <td>9486.10</td>\n",
       "      <td>9525.75</td>\n",
       "      <td>211856040</td>\n",
       "      <td>10726.23</td>\n",
       "    </tr>\n",
       "    <tr>\n",
       "      <th>2017-05-18</th>\n",
       "      <td>9453.20</td>\n",
       "      <td>9489.10</td>\n",
       "      <td>9418.10</td>\n",
       "      <td>9429.45</td>\n",
       "      <td>199340647</td>\n",
       "      <td>10782.46</td>\n",
       "    </tr>\n",
       "    <tr>\n",
       "      <th>2017-05-19</th>\n",
       "      <td>9469.90</td>\n",
       "      <td>9505.75</td>\n",
       "      <td>9390.75</td>\n",
       "      <td>9427.90</td>\n",
       "      <td>259861396</td>\n",
       "      <td>11544.77</td>\n",
       "    </tr>\n",
       "  </tbody>\n",
       "</table>\n",
       "</div>"
      ],
      "text/plain": [
       "               Open     High      Low    Close  Shares Traded  \\\n",
       "Date                                                            \n",
       "2017-05-15  9433.55  9449.25  9423.10  9445.40      145163953   \n",
       "2017-05-16  9461.00  9517.20  9456.35  9512.25      171709433   \n",
       "2017-05-17  9517.60  9532.60  9486.10  9525.75      211856040   \n",
       "2017-05-18  9453.20  9489.10  9418.10  9429.45      199340647   \n",
       "2017-05-19  9469.90  9505.75  9390.75  9427.90      259861396   \n",
       "\n",
       "            Turnover (Rs. Cr)  \n",
       "Date                           \n",
       "2017-05-15            7790.97  \n",
       "2017-05-16            9209.89  \n",
       "2017-05-17           10726.23  \n",
       "2017-05-18           10782.46  \n",
       "2017-05-19           11544.77  "
      ]
     },
     "execution_count": 14,
     "metadata": {},
     "output_type": "execute_result"
    }
   ],
   "source": [
    "nifty.head()"
   ]
  },
  {
   "cell_type": "code",
   "execution_count": 15,
   "metadata": {},
   "outputs": [
    {
     "name": "stdout",
     "output_type": "stream",
     "text": [
      "3 Month's Daily Beta =  [[0.8369457606490366]]\n"
     ]
    }
   ],
   "source": [
    "# ================= Daily Beta ===================\n",
    "index = nifty['Open'].where(nifty.index == voltas.index)\n",
    "indexReturn = (index.pct_change()*100).dropna().values.reshape(-1, 1)\n",
    "\n",
    "stock = voltas['Open Price'].where(nifty.index == voltas.index)\n",
    "stockReturn = (stock.pct_change()*100).dropna().values.reshape(-1, 1)\n",
    "\n",
    "reg_for_beta_d = LinearRegression().fit(indexReturn[403:].reshape(-1, 1), stockReturn[403:].reshape(-1, 1))  #len(indexReturn) = 493\n",
    "print('3 Month\\'s Daily Beta = ', reg_for_beta_d.coef_.tolist())"
   ]
  },
  {
   "cell_type": "code",
   "execution_count": 16,
   "metadata": {},
   "outputs": [
    {
     "name": "stdout",
     "output_type": "stream",
     "text": [
      "3 Month's Daily Beta =  0.8369457606490369\n"
     ]
    }
   ],
   "source": [
    "daily_covMat = np.cov(indexReturn[403:].reshape(1, -1), stockReturn[403:].reshape(1, -1))\n",
    "print('3 Month\\'s Daily Beta = ', daily_covMat[0][1] / daily_covMat[0][0])"
   ]
  },
  {
   "cell_type": "code",
   "execution_count": 17,
   "metadata": {},
   "outputs": [
    {
     "name": "stdout",
     "output_type": "stream",
     "text": [
      "Monthly Beta: [[1.1726552636090162]]\n"
     ]
    }
   ],
   "source": [
    "#================ Monthly Beta =========================\n",
    "index_m_last = index.loc[index.groupby(index.index.to_period('M')).apply(lambda x: x.index.max())]\n",
    "index_m_last_return = (index_m_last.pct_change()*100).dropna().values.reshape(-1, 1)\n",
    "\n",
    "stock_m_last = stock.loc[stock.groupby(stock.index.to_period('M')).apply(lambda x: x.index.max())]\n",
    "stock_m_last_return = (stock_m_last.pct_change()*100).dropna().values.reshape(-1, 1)\n",
    "\n",
    "reg_for_beta_M = LinearRegression().fit(index_m_last_return.reshape(-1,1), stock_m_last_return.reshape(-1, 1))\n",
    "print('Monthly Beta:', reg_for_beta_M.coef_.tolist())"
   ]
  },
  {
   "cell_type": "code",
   "execution_count": 22,
   "metadata": {},
   "outputs": [
    {
     "name": "stdout",
     "output_type": "stream",
     "text": [
      "Monthly Beta =  1.1726552636090166\n"
     ]
    }
   ],
   "source": [
    "monthly_covMat = np.cov(index_m_last_return.reshape(1, -1), stock_m_last_return.reshape(1, -1))\n",
    "print('Monthly Beta = ', monthly_covMat[0][1] / monthly_covMat[0][0])"
   ]
  },
  {
   "cell_type": "markdown",
   "metadata": {},
   "source": [
    "Here Beta>1 for monthly Beta. If Beta is -ve then it indicates opposite relationship with the market."
   ]
  },
  {
   "cell_type": "code",
   "execution_count": null,
   "metadata": {},
   "outputs": [],
   "source": []
  }
 ],
 "metadata": {
  "kernelspec": {
   "display_name": "Python 3",
   "language": "python",
   "name": "python3"
  },
  "language_info": {
   "codemirror_mode": {
    "name": "ipython",
    "version": 3
   },
   "file_extension": ".py",
   "mimetype": "text/x-python",
   "name": "python",
   "nbconvert_exporter": "python",
   "pygments_lexer": "ipython3",
   "version": "3.7.6"
  }
 },
 "nbformat": 4,
 "nbformat_minor": 4
}
